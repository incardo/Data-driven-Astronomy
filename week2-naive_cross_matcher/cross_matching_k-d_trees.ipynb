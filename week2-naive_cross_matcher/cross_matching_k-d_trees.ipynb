{
 "cells": [
  {
   "cell_type": "markdown",
   "id": "bebdea46-d600-47a8-9600-8228aae48276",
   "metadata": {},
   "source": [
    "# Week 2: Cross-matching with k-d trees"
   ]
  },
  {
   "cell_type": "markdown",
   "id": "120c3ed0-c4ec-4622-b236-9b6ca77ceace",
   "metadata": {},
   "source": [
    "You may have noticed that crossmatching takes a long time, even with significantly cut down catalogues.\n",
    "\n",
    "We've seen this before: inefficient algorithms.\n",
    "\n",
    "The way we've implemented our crossmatcher means that for every object in BSS, we need to calculate distance to every object in SuperCOSMOS. Even our small crossmatching task requires 160 × 500 = 80,000 distance calculations.\n",
    "\n",
    "With each distance calculation taking a few microseconds, it quickly adds up to seconds or minutes.\n",
    "\n",
    "Seconds may not seem like much but remember that the full SuperCOSMOS catalogue has 126 million objects, over 250,000 times larger than the truncated version we gave you to work with.\n",
    "\n",
    "Then, imagine you were trying to crossmatch a catalogue other than AT20G BSS, with a size comparable to SuperCOSMOS. A crossmatching operation like that might take months or years.\n",
    "\n",
    "We clearly need to be smarter about our choice of algorithm.\n",
    "\n",
    "In this activity, we’ll look at modifying our previous crossmatcher to show you how easy it is to save computation time."
   ]
  },
  {
   "cell_type": "markdown",
   "id": "f65ad157-83f3-4945-825b-ce2a5751cf4b",
   "metadata": {},
   "source": [
    "In the crossmatcher you developed in the previous activity, it was necessary to convert the RA and declination from degrees to radians so that the trigonometric functions could work with them.\n",
    "\n",
    "If this conversion occurred in the distance calculation function, then the same coordinates would be converted many times during the crossmatching operation.\n",
    "\n",
    "In the next problem, we'll ask you to modify your crossmatcher algorithm so that the conversion occurs only once, before any distance calculations. This should save only a small amount of time, but it all adds up in the end.\n",
    "\n",
    "Since our focus from now on will be improving our algorithm, we'll be using randomly generated catalogues instead of SuperCOSMOS and the AT20G BSS. This lets us see if our changes are improving our algorithm's efficiency in general, instead of just finding something that works for two specific catalogues."
   ]
  },
  {
   "cell_type": "code",
   "execution_count": 2,
   "id": "3c475d7b-ff48-4a52-ae0c-1b0959c44a50",
   "metadata": {},
   "outputs": [
    {
     "ename": "NameError",
     "evalue": "name 'crossmatch' is not defined",
     "output_type": "error",
     "traceback": [
      "\u001b[1;31m---------------------------------------------------------------------------\u001b[0m",
      "\u001b[1;31mNameError\u001b[0m                                 Traceback (most recent call last)",
      "\u001b[1;32m~\\AppData\\Local\\Temp/ipykernel_10192/1368295967.py\u001b[0m in \u001b[0;36m<module>\u001b[1;34m\u001b[0m\n\u001b[0;32m     10\u001b[0m   \u001b[0mcat1\u001b[0m \u001b[1;33m=\u001b[0m \u001b[0mnp\u001b[0m\u001b[1;33m.\u001b[0m\u001b[0marray\u001b[0m\u001b[1;33m(\u001b[0m\u001b[1;33m[\u001b[0m\u001b[1;33m[\u001b[0m\u001b[1;36m180\u001b[0m\u001b[1;33m,\u001b[0m \u001b[1;36m30\u001b[0m\u001b[1;33m]\u001b[0m\u001b[1;33m,\u001b[0m \u001b[1;33m[\u001b[0m\u001b[1;36m45\u001b[0m\u001b[1;33m,\u001b[0m \u001b[1;36m10\u001b[0m\u001b[1;33m]\u001b[0m\u001b[1;33m,\u001b[0m \u001b[1;33m[\u001b[0m\u001b[1;36m300\u001b[0m\u001b[1;33m,\u001b[0m \u001b[1;33m-\u001b[0m\u001b[1;36m45\u001b[0m\u001b[1;33m]\u001b[0m\u001b[1;33m]\u001b[0m\u001b[1;33m)\u001b[0m\u001b[1;33m\u001b[0m\u001b[1;33m\u001b[0m\u001b[0m\n\u001b[0;32m     11\u001b[0m   \u001b[0mcat2\u001b[0m \u001b[1;33m=\u001b[0m \u001b[0mnp\u001b[0m\u001b[1;33m.\u001b[0m\u001b[0marray\u001b[0m\u001b[1;33m(\u001b[0m\u001b[1;33m[\u001b[0m\u001b[1;33m[\u001b[0m\u001b[1;36m180\u001b[0m\u001b[1;33m,\u001b[0m \u001b[1;36m32\u001b[0m\u001b[1;33m]\u001b[0m\u001b[1;33m,\u001b[0m \u001b[1;33m[\u001b[0m\u001b[1;36m55\u001b[0m\u001b[1;33m,\u001b[0m \u001b[1;36m10\u001b[0m\u001b[1;33m]\u001b[0m\u001b[1;33m,\u001b[0m \u001b[1;33m[\u001b[0m\u001b[1;36m302\u001b[0m\u001b[1;33m,\u001b[0m \u001b[1;33m-\u001b[0m\u001b[1;36m44\u001b[0m\u001b[1;33m]\u001b[0m\u001b[1;33m]\u001b[0m\u001b[1;33m)\u001b[0m\u001b[1;33m\u001b[0m\u001b[1;33m\u001b[0m\u001b[0m\n\u001b[1;32m---> 12\u001b[1;33m   \u001b[0mmatches\u001b[0m\u001b[1;33m,\u001b[0m \u001b[0mno_matches\u001b[0m\u001b[1;33m,\u001b[0m \u001b[0mtime_taken\u001b[0m \u001b[1;33m=\u001b[0m \u001b[0mcrossmatch\u001b[0m\u001b[1;33m(\u001b[0m\u001b[0mcat1\u001b[0m\u001b[1;33m,\u001b[0m \u001b[0mcat2\u001b[0m\u001b[1;33m,\u001b[0m \u001b[1;36m5\u001b[0m\u001b[1;33m)\u001b[0m\u001b[1;33m\u001b[0m\u001b[1;33m\u001b[0m\u001b[0m\n\u001b[0m\u001b[0;32m     13\u001b[0m   \u001b[0mprint\u001b[0m\u001b[1;33m(\u001b[0m\u001b[1;34m'matches:'\u001b[0m\u001b[1;33m,\u001b[0m \u001b[0mmatches\u001b[0m\u001b[1;33m)\u001b[0m\u001b[1;33m\u001b[0m\u001b[1;33m\u001b[0m\u001b[0m\n\u001b[0;32m     14\u001b[0m   \u001b[0mprint\u001b[0m\u001b[1;33m(\u001b[0m\u001b[1;34m'unmatched:'\u001b[0m\u001b[1;33m,\u001b[0m \u001b[0mno_matches\u001b[0m\u001b[1;33m)\u001b[0m\u001b[1;33m\u001b[0m\u001b[1;33m\u001b[0m\u001b[0m\n",
      "\u001b[1;31mNameError\u001b[0m: name 'crossmatch' is not defined"
     ]
    }
   ],
   "source": [
    "# Write your crossmatch function here.\n",
    "import numpy as np\n",
    "\n",
    "\n",
    "\n",
    "# You can use this to test your function.\n",
    "# Any code inside this `if` statement will be ignored by the automarker.\n",
    "if __name__ == '__main__':\n",
    "  # The example in the question\n",
    "  cat1 = np.array([[180, 30], [45, 10], [300, -45]])\n",
    "  cat2 = np.array([[180, 32], [55, 10], [302, -44]])\n",
    "  matches, no_matches, time_taken = crossmatch(cat1, cat2, 5)\n",
    "  print('matches:', matches)\n",
    "  print('unmatched:', no_matches)\n",
    "  print('time taken:', time_taken)\n",
    "\n",
    "  # A function to create a random catalogue of size n\n",
    "  def create_cat(n):\n",
    "    ras = np.random.uniform(0, 360, size=(n, 1))\n",
    "    decs = np.random.uniform(-90, 90, size=(n, 1))\n",
    "    return np.hstack((ras, decs))\n",
    "\n",
    "  # Test your function on random inputs\n",
    "  np.random.seed(0)\n",
    "  cat1 = create_cat(10)\n",
    "  cat2 = create_cat(20)\n",
    "  matches, no_matches, time_taken = crossmatch(cat1, cat2, 5)\n",
    "  print('matches:', matches)\n",
    "  print('unmatched:', no_matches)\n",
    "  print('time taken:', time_taken)\n"
   ]
  },
  {
   "cell_type": "code",
   "execution_count": null,
   "id": "507bb4e6-f41d-434b-922d-97c8e0578747",
   "metadata": {},
   "outputs": [],
   "source": []
  }
 ],
 "metadata": {
  "kernelspec": {
   "display_name": "Python 3 (ipykernel)",
   "language": "python",
   "name": "python3"
  },
  "language_info": {
   "codemirror_mode": {
    "name": "ipython",
    "version": 3
   },
   "file_extension": ".py",
   "mimetype": "text/x-python",
   "name": "python",
   "nbconvert_exporter": "python",
   "pygments_lexer": "ipython3",
   "version": "3.8.11"
  }
 },
 "nbformat": 4,
 "nbformat_minor": 5
}
