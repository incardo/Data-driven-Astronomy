{
 "cells": [
  {
   "cell_type": "markdown",
   "id": "bebdea46-d600-47a8-9600-8228aae48276",
   "metadata": {},
   "source": [
    "# Week 2: Cross-matching with k-d trees"
   ]
  },
  {
   "cell_type": "markdown",
   "id": "120c3ed0-c4ec-4622-b236-9b6ca77ceace",
   "metadata": {},
   "source": [
    "You may have noticed that crossmatching takes a long time, even with significantly cut down catalogues.\n",
    "\n",
    "We've seen this before: inefficient algorithms.\n",
    "\n",
    "The way we've implemented our crossmatcher means that for every object in BSS, we need to calculate distance to every object in SuperCOSMOS. Even our small crossmatching task requires 160 × 500 = 80,000 distance calculations.\n",
    "\n",
    "With each distance calculation taking a few microseconds, it quickly adds up to seconds or minutes.\n",
    "\n",
    "Seconds may not seem like much but remember that the full SuperCOSMOS catalogue has 126 million objects, over 250,000 times larger than the truncated version we gave you to work with.\n",
    "\n",
    "Then, imagine you were trying to crossmatch a catalogue other than AT20G BSS, with a size comparable to SuperCOSMOS. A crossmatching operation like that might take months or years.\n",
    "\n",
    "We clearly need to be smarter about our choice of algorithm.\n",
    "\n",
    "In this activity, we’ll look at modifying our previous crossmatcher to show you how easy it is to save computation time."
   ]
  },
  {
   "cell_type": "markdown",
   "id": "f65ad157-83f3-4945-825b-ce2a5751cf4b",
   "metadata": {},
   "source": [
    "In the crossmatcher you developed in the previous activity, it was necessary to convert the RA and declination from degrees to radians so that the trigonometric functions could work with them.\n",
    "\n",
    "If this conversion occurred in the distance calculation function, then the same coordinates would be converted many times during the crossmatching operation.\n",
    "\n",
    "In the next problem, we'll ask you to modify your crossmatcher algorithm so that the conversion occurs only once, before any distance calculations. This should save only a small amount of time, but it all adds up in the end.\n",
    "\n",
    "Since our focus from now on will be improving our algorithm, we'll be using randomly generated catalogues instead of SuperCOSMOS and the AT20G BSS. This lets us see if our changes are improving our algorithm's efficiency in general, instead of just finding something that works for two specific catalogues."
   ]
  },
  {
   "cell_type": "markdown",
   "id": "417061f8-963f-46a6-921b-f5ce82e57a38",
   "metadata": {},
   "source": [
    "## Micro-optimisation\n",
    "Write a crossmatch function for two catalogues to within a maximum radius. The catalogues are 2D NumPy arrays of RA and declination in degrees.\n",
    "\n",
    "Your function should convert all the coordinates to radians before it starts crossmatching. It should return 3 values:\n",
    "\n",
    "A list of tuples of matched IDs and their distance in degrees;\n",
    "A list of unmatched IDs from the first catalogue;\n",
    "The time taken (in seconds) to run the crossmatcher.\n",
    "Both catalogues are given as an N×2 NumPy array of floats. Each row contains the coordinates of a single object. The two columns are the RA and declination.\n",
    "\n",
    "An object's ID is the index of its row, starting at 0. Your function should work with input catalogues with any number of objects.\n",
    "\n",
    "Here's an example of how your function should work.\n",
    "\n",
    "We will also test your function on random input arrays. We've included a function called create_cat to generate these arrays in the starting file\n"
   ]
  },
  {
   "cell_type": "code",
   "execution_count": 1,
   "id": "a09a761f-4a03-4b84-8f91-591de29418af",
   "metadata": {},
   "outputs": [],
   "source": [
    "#>>> cat1 = np.array([[180, 30], [45, 10], [300, -45]])\n",
    "#>>> cat2 = np.array([[180, 32], [55, 10], [302, -44]])\n",
    "#>>> matches, no_matches, time = crossmatch(cat1, cat2, 5)\n",
    "#>>> print('matches:', matches)\n",
    "#matches: [(0, 0, 2.0000000000000027), (2, 2, 1.7420109046547023)]\n",
    "#>>> print('unmatched:', no_matches)\n",
    "#unmatched: [1]\n",
    "#>>> print('time taken:', time_taken)\n",
    "#time taken: 0.00022228599118534476"
   ]
  },
  {
   "cell_type": "code",
   "execution_count": 10,
   "id": "3c475d7b-ff48-4a52-ae0c-1b0959c44a50",
   "metadata": {},
   "outputs": [
    {
     "name": "stdout",
     "output_type": "stream",
     "text": [
      "matches: [(0, 0, 2.0000000000000027), (2, 2, 1.7420109046547023)]\n",
      "unmatched: [1]\n",
      "time taken: 0.00028029999975842657\n",
      "matches: [(2, 3, 2.8875857244474235)]\n",
      "unmatched: [0, 1, 3, 4, 5, 6, 7, 8, 9]\n",
      "time taken: 0.003957200000058947\n"
     ]
    }
   ],
   "source": [
    "# Write your crossmatch function here.\n",
    "import numpy as np\n",
    "import time\n",
    "\n",
    "def angular_dist(r1, d1, r2, d2):\n",
    "    a = np.sin(np.abs(d1 - d2)/2)**2\n",
    "    b = np.cos(d1)*np.cos(d2)*np.sin(np.abs(r1 - r2)/2)**2\n",
    "    return 2*np.arcsin(np.sqrt(a + b))\n",
    "\n",
    "def crossmatch(cat1, cat2, max_radius):\n",
    "    start = time.perf_counter()\n",
    "    max_radius = np.radians(max_radius)\n",
    "  \n",
    "    matches = []\n",
    "    no_matches = []\n",
    "\n",
    "  # Convert coordinates to radians\n",
    "    cat1 = np.radians(cat1)\n",
    "    cat2 = np.radians(cat2)\n",
    "\n",
    "    for id1, (ra1, dec1) in enumerate(cat1):\n",
    "        min_dist = np.inf\n",
    "        min_id2 = None\n",
    "        for id2, (ra2, dec2) in enumerate(cat2):\n",
    "            dist = angular_dist(ra1, dec1, ra2, dec2)\n",
    "            if dist < min_dist:\n",
    "                min_id2 = id2\n",
    "                min_dist = dist\n",
    "\n",
    "        # Ignore match if it's outside the maximum radius\n",
    "        if min_dist > max_radius:\n",
    "            no_matches.append(id1)\n",
    "        else:\n",
    "            matches.append((id1, min_id2, np.degrees(min_dist)))\n",
    "    \n",
    "    time_taken = time.perf_counter() - start\n",
    "    return matches, no_matches, time_taken\n",
    "\n",
    "# You can use this to test your function.\n",
    "# Any code inside this `if` statement will be ignored by the automarker.\n",
    "\n",
    "# The example in the question\n",
    "cat1 = np.array([[180, 30], [45, 10], [300, -45]])\n",
    "cat2 = np.array([[180, 32], [55, 10], [302, -44]])\n",
    "matches, no_matches, time_taken = crossmatch(cat1, cat2, 5)\n",
    "print('matches:', matches)\n",
    "print('unmatched:', no_matches)\n",
    "print('time taken:', time_taken)\n",
    "\n",
    "# A function to create a random catalogue of size n\n",
    "def create_cat(n):\n",
    "    ras = np.random.uniform(0, 360, size=(n, 1))\n",
    "    decs = np.random.uniform(-90, 90, size=(n, 1))\n",
    "    return np.hstack((ras, decs))\n",
    "\n",
    "# Test your function on random inputs\n",
    "cat1 = create_cat(10)\n",
    "cat2 = create_cat(20)\n",
    "matches, no_matches, time_taken = crossmatch(cat1, cat2, 5)\n",
    "print('matches:', matches)\n",
    "print('unmatched:', no_matches)\n",
    "print('time taken:', time_taken)"
   ]
  },
  {
   "cell_type": "markdown",
   "id": "2a028a08-024c-415d-9667-c02c2768e0a7",
   "metadata": {},
   "source": [
    "## Vectorisation"
   ]
  },
  {
   "cell_type": "markdown",
   "id": "41cc9b07-6b0a-42cd-833a-06887bd9d4a9",
   "metadata": {},
   "source": [
    "Copy and modify your previous angular_dist and crossmatch in radians functions to calculate the distances to all of the objects in the second catalogue using NumPy arrays.\n",
    "\n",
    "The return values should behave the same way as the original function, given the same arguments, except time_taken should be noticeably smaller for large catalogues.\n",
    "\n",
    "For example, angular_dist should work with an array second catalogue:\n",
    "\n",
    "We've included the function create_cat in the initial file to generate random arrays so you can test your function yourself."
   ]
  },
  {
   "cell_type": "code",
   "execution_count": null,
   "id": "b410ec84-6c0d-4d39-98fe-348627e16278",
   "metadata": {},
   "outputs": [],
   "source": [
    "# >>> ra1, dec1 = np.radians([180, 30])\n",
    "# >>> cat2 = [[180, 32], [55, 10], [302, -44]]\n",
    "# >>> cat2 = np.radians(cat2)\n",
    "# >>> ra2s, dec2s = cat2[:,0], cat2[:,1]\n",
    "# >>> dists = angular_dist(ra1, dec1, ra2s, dec2s)\n",
    "# >>> print(np.degrees(dists))\n",
    "# array([   2.        ,  113.72587199,  132.64478705])\n",
    "# We will test both functions on random input arrays."
   ]
  },
  {
   "cell_type": "code",
   "execution_count": 11,
   "id": "1dd35743-ba8e-41fb-8c86-33070cdb10f3",
   "metadata": {},
   "outputs": [
    {
     "name": "stdout",
     "output_type": "stream",
     "text": [
      "matches: [(0, 0, 2.0000000000000027), (2, 2, 1.7420109046547023)]\n",
      "unmatched: [1]\n",
      "time taken: 0.0024932999999691674\n",
      "matches: []\n",
      "unmatched: [0, 1, 2, 3, 4, 5, 6, 7, 8, 9]\n",
      "time taken: 0.000989799999842944\n"
     ]
    }
   ],
   "source": [
    "# Write your crossmatch function here.\n",
    "import numpy as np\n",
    "import time\n",
    "\n",
    "def angular_dist(r1, d1, r2, d2):\n",
    "    a = np.sin(np.abs(d1 - d2)/2)**2\n",
    "    b = np.cos(d1)*np.cos(d2)*np.sin(np.abs(r1 - r2)/2)**2\n",
    "    return 2*np.arcsin(np.sqrt(a + b))\n",
    "\n",
    "def crossmatch(cat1, cat2, max_radius):\n",
    "    start = time.perf_counter()\n",
    "    max_radius = np.radians(max_radius)\n",
    "  \n",
    "    matches = []\n",
    "    no_matches = []\n",
    "\n",
    "  # Convert coordinates to radians\n",
    "    cat1 = np.radians(cat1)\n",
    "    cat2 = np.radians(cat2)\n",
    "    ra2s = cat2[:, 0]\n",
    "    dec2s = cat2[:, 1]\n",
    "\n",
    "    for id1, (ra1, dec1) in enumerate(cat1):\n",
    "        dists = angular_dist(ra1, dec1, ra2s, dec2s)\n",
    "        min_dist = np.min(dists)\n",
    "        min_id2 = np.argmin(dists)\n",
    "\n",
    "        # Ignore match if it's outside the maximum radius\n",
    "        if min_dist > max_radius:\n",
    "              no_matches.append(id1)\n",
    "        else:\n",
    "              matches.append((id1, min_id2, np.degrees(min_dist)))\n",
    "\n",
    "    time_taken = time.perf_counter() - start\n",
    "    return matches, no_matches, time_taken\n",
    "\n",
    "# You can use this to test your function.\n",
    "# Any code inside this `if` statement will be ignored by the automarker.\n",
    "#if __name__ == '__main__':\n",
    "  # The example in the question\n",
    "cat1 = np.array([[180, 30], [45, 10], [300, -45]])\n",
    "cat2 = np.array([[180, 32], [55, 10], [302, -44]])\n",
    "matches, no_matches, time_taken = crossmatch(cat1, cat2, 5)\n",
    "print('matches:', matches)\n",
    "print('unmatched:', no_matches)\n",
    "print('time taken:', time_taken)\n",
    "\n",
    "# A function to create a random catalogue of size n\n",
    "def create_cat(n):\n",
    "    ras = np.random.uniform(0, 360, size=(n, 1))\n",
    "    decs = np.random.uniform(-90, 90, size=(n, 1))\n",
    "    return np.hstack((ras, decs))\n",
    "\n",
    "# Test your function on random inputs\n",
    "np.random.seed(0)\n",
    "cat1 = create_cat(10)\n",
    "cat2 = create_cat(20)\n",
    "matches, no_matches, time_taken = crossmatch(cat1, cat2, 5)\n",
    "print('matches:', matches)\n",
    "print('unmatched:', no_matches)\n",
    "print('time taken:', time_taken)\n"
   ]
  },
  {
   "cell_type": "markdown",
   "id": "2e8d3cd5-71df-43d6-8380-5b3c172a20d6",
   "metadata": {},
   "source": [
    "## Break out"
   ]
  },
  {
   "cell_type": "markdown",
   "id": "f949567f-e824-4e9c-8c10-20ccc88b448d",
   "metadata": {},
   "source": [
    "Another optimisation we can make is to ignore objects in the second catalogue with a declination far from the first catalogue object currently being matched. The easiest way of doing this is:\n",
    "Loop through the second catalogue objects in order of declination, rather than ID;\n",
    "Stop when the declination of the second catalogue object exceeds the target declination by the maximum radius.\n",
    "So, for example, say we have a first catalogue object (the target) with a declination of  \n",
    "δ\n",
    "  and we’ve set our maximum match radius to  \n",
    "r\n",
    " . The new algorithm will only loop over second catalogue objects with declinations between -90 (the start) and  \n",
    "δ\n",
    "+\n",
    "r\n",
    "  degrees before it breaks out of the loop.\n",
    "\n",
    "If we have evenly distributed objects, this lets crossmatch avoid distance calculations to approximately half the second catalogue objects (on average).\n",
    "We'll show you how to cut down the -90 starting declination soon!"
   ]
  },
  {
   "cell_type": "markdown",
   "id": "587bcc6f-2df8-4b05-b6d0-3fa171ab5492",
   "metadata": {},
   "source": [
    "Copy your crossmatch solution from Microoptimisation and modify it so that it sorts catalogue 2 by declination and breaks out of the inner loop early.\n",
    "Your crossmatch should break out of the loop over the second catalogue when the declination reaches dec1 + max_radius.\n",
    "The return values should behave the same way as the original function, given the same arguments, except time_taken should be noticeably smaller for large catalogues.\n",
    "We will test your function on random input arrays. We've included the function create_cat in the starting file to generate random arrays so you can test your function yourself."
   ]
  },
  {
   "cell_type": "code",
   "execution_count": 22,
   "id": "53c4533d-69d0-48d1-9c99-3681966ff592",
   "metadata": {},
   "outputs": [
    {
     "name": "stdout",
     "output_type": "stream",
     "text": [
      "matches: [(0, 0, 2.0000000000000027), (2, 2, 1.7420109046547023)]\n",
      "unmatched: [1]\n",
      "time taken: 0.0006375000002663\n",
      "matches: []\n",
      "unmatched: [0, 1, 2, 3, 4, 5, 6, 7, 8, 9]\n",
      "time taken: 0.0035571999997046078\n"
     ]
    }
   ],
   "source": [
    "# Write your crossmatch function here.\n",
    "import numpy as np\n",
    "import time\n",
    "\n",
    "def angular_dist(r1, d1, r2, d2):\n",
    "    a = np.sin(np.abs(d1 - d2)/2)**2\n",
    "    b = np.cos(d1)*np.cos(d2)*np.sin(np.abs(r1 - r2)/2)**2\n",
    "    return 2*np.arcsin(np.sqrt(a + b))\n",
    "\n",
    "def crossmatch(cat1, cat2, max_radius):\n",
    "    start = time.perf_counter()\n",
    "    max_radius = np.radians(max_radius)\n",
    "  \n",
    "    matches = []\n",
    "    no_matches = []\n",
    "\n",
    "  # Convert coordinates to radians\n",
    "    cat1 = np.radians(cat1)\n",
    "    cat2 = np.radians(cat2)\n",
    "    order = np.argsort(cat2[:,1])\n",
    "    cat2_ordered = cat2[order]\n",
    "\n",
    "    for id1, (ra1, dec1) in enumerate(cat1):\n",
    "        min_dist = np.inf\n",
    "        min_id2 = None\n",
    "        max_dec = dec1 + max_radius\n",
    "        for id2, (ra2, dec2) in enumerate(cat2_ordered):\n",
    "            if dec2 > max_dec:\n",
    "                break\n",
    "  \n",
    "            dist = angular_dist(ra1, dec1, ra2, dec2)\n",
    "            if dist < min_dist:\n",
    "                min_id2 = order[id2]\n",
    "                min_dist = dist\n",
    "\n",
    "        # Ignore match if it's outside the maximum radius\n",
    "        if min_dist > max_radius:\n",
    "            no_matches.append(id1)\n",
    "        else:\n",
    "            matches.append((id1, min_id2, np.degrees(min_dist)))\n",
    "    \n",
    "    time_taken = time.perf_counter() - start\n",
    "    return matches, no_matches, time_taken\n",
    "\n",
    "# You can use this to test your function.\n",
    "# Any code inside this `if` statement will be ignored by the automarker.\n",
    "\n",
    "# The example in the question\n",
    "cat1 = np.array([[180, 30], [45, 10], [300, -45]])\n",
    "cat2 = np.array([[180, 32], [55, 10], [302, -44]])\n",
    "matches, no_matches, time_taken = crossmatch(cat1, cat2, 5)\n",
    "print('matches:', matches)\n",
    "print('unmatched:', no_matches)\n",
    "print('time taken:', time_taken)\n",
    "\n",
    "# A function to create a random catalogue of size n\n",
    "def create_cat(n):\n",
    "    ras = np.random.uniform(0, 360, size=(n, 1))\n",
    "    decs = np.random.uniform(-90, 90, size=(n, 1))\n",
    "    return np.hstack((ras, decs))\n",
    "\n",
    "# Test your function on random inputs\n",
    "cat1 = create_cat(10)\n",
    "cat2 = create_cat(20)\n",
    "matches, no_matches, time_taken = crossmatch(cat1, cat2, 5)\n",
    "print('matches:', matches)\n",
    "print('unmatched:', no_matches)\n",
    "print('time taken:', time_taken)"
   ]
  },
  {
   "cell_type": "markdown",
   "id": "35adede1-5adf-42d6-80aa-86398266e35c",
   "metadata": {},
   "source": [
    "## Boxing match"
   ]
  },
  {
   "cell_type": "markdown",
   "id": "75abffa0-4b90-4a5d-9130-3d5ffc8cd273",
   "metadata": {},
   "source": [
    "We can improve on the previous optimisation further by not only stopping the search once it gets past declination of the object to be matched, but starting the search as close as possible to the object. To summarise, the modification is:\n",
    "\n",
    "Sort the second catalogue objects by order of declination;\n",
    "Start the search loop at the first second catalogue object with declination greater than  \n",
    "δ\n",
    "−\n",
    "r\n",
    " ;\n",
    "Finish the search loop at the last second catalogue object with declination less than  \n",
    "δ\n",
    "+\n",
    "r\n",
    " .\n",
    "Boxing in the search in this way saves on calculating the distances for almost the entire second catalogue.\n",
    "\n",
    "We just need to find a fast way to find the second catalogue objects nearest to the boundaries of  \n",
    "[\n",
    "δ\n",
    "−\n",
    "r\n",
    ",\n",
    "δ\n",
    "+\n",
    "r\n",
    "]\n",
    "  so we know where to start and finish our search.\n",
    "\n",
    "The easiest way to do this conceptually is to loop through the sorted catalogue, checking every declination until we find the objects we're looking for. But there is a more efficient way."
   ]
  },
  {
   "cell_type": "markdown",
   "id": "97afd44a-3a54-43e7-8464-b9a5d9bef4d6",
   "metadata": {
    "tags": []
   },
   "source": [
    "If a list is sorted, it can be much faster to find the index of some element using a binary search, rather than doing comparisons on every element in the list.\n",
    "A binary search splits the list in half repeatedly, continuing the search in the half that may contain the target element.\n",
    "An example is finding the value 15 in the following list:\n",
    "\n",
    "i =   0   1   2   3   4   5   6   7   8   9\n",
    "s = [10, 11, 12, 13, 14, 15, 16, 17, 18, 19]\n",
    "\n",
    "The middle (rounding down) of s is s[4], which is 14;\n",
    "14 is less than 15, so 15 must be in s[5:10];\n",
    "The middle of s[5:10] is s[7], which is 17;\n",
    "17 is greater than 15, so 15 must be somewhere in s[5:7];\n",
    "The midpoint of s_list[5:7] is s[5], which is 15;\n",
    "15 is the element we're searching for, so its index is 5\n",
    "This seems a roundabout way of finding 15 in a list of 10 to 19, but note that only 3 comparisons were made, whereas 6 comparisons would been made if we'd just searched the whole list.\n",
    "\n",
    "On big arrays the savings can be enormous. Whereas 500 comparisons are on average necessary to find an element in a list of length 1000 with direct searching, only 10 are necessary with a binary search."
   ]
  },
  {
   "cell_type": "markdown",
   "id": "a83948ea-52f3-48fe-b648-433bb9fcb69e",
   "metadata": {},
   "source": [
    "NumPy provides binary search with the searchsorted function.\n",
    "Rather than searching for a specific element, searchsorted finds the insertion position of the target (actually the index after) that would maintain the sorted order. Using the previous example, we can find the element just after the number 14.5:\n",
    "\n",
    "i =  0   1   2   3   4   5   6   7   8   9\n",
    "s = [10, 11, 12, 13, 14, 15, 16, 17, 18, 19]\n",
    "import numpy as np\n",
    "index = np.searchsorted(s, 15, side='left')\n",
    "print(index)\n",
    "5\n",
    "\n",
    "If you change it to side='right' you'll get the last place 15 can be sorted to maintain the sort order."
   ]
  },
  {
   "cell_type": "markdown",
   "id": "4f527907-3b33-4b42-96b5-acd7c7e96596",
   "metadata": {},
   "source": [
    "Copy crossmatch from Break out and modify it to only loop through objects in the second catalogue with declinations between dec1 - max_radius and dec1 + max_radius using binary search.\n",
    "Your crossmatch should use np.searchsorted to find the starting point (just before dec1 - max_radius) and then break out of the loop when the declination reaches dec1 + max_radius.\n",
    "The return values should behave the same way as the original function, given the same arguments, except time_taken should be noticeably smaller for large catalogues.\n",
    "We will test your function on random input arrays. We've included the function create_cat in the starting file to generate random arrays so you can test your function yourself."
   ]
  },
  {
   "cell_type": "code",
   "execution_count": 51,
   "id": "f22b918f-12a2-4ae3-a448-cb180718aeec",
   "metadata": {},
   "outputs": [
    {
     "name": "stdout",
     "output_type": "stream",
     "text": [
      "matches: [(0, 0, 2.0000000000000027), (2, 2, 1.7420109046547023)]\n",
      "unmatched: [1]\n",
      "time taken: 0.001135200000135228\n",
      "matches: []\n",
      "unmatched: [0, 1, 2, 3, 4, 5, 6, 7, 8, 9]\n",
      "time taken: 0.0006946000012248987\n"
     ]
    }
   ],
   "source": [
    "# Write your crossmatch function here.\n",
    "import numpy as np\n",
    "import time\n",
    "\n",
    "def angular_dist(r1, d1, r2, d2):\n",
    "    a = np.sin(np.abs(d1 - d2)/2)**2\n",
    "    b = np.cos(d1)*np.cos(d2)*np.sin(np.abs(r1 - r2)/2)**2\n",
    "    return 2*np.arcsin(np.sqrt(a + b))\n",
    "\n",
    "def crossmatch(cat1, cat2, max_radius):\n",
    "    start = time.perf_counter()\n",
    "    max_radius = np.radians(max_radius)\n",
    "  \n",
    "    matches = []\n",
    "    no_matches = []\n",
    "\n",
    "  # Convert coordinates to radians\n",
    "    cat1 = np.radians(cat1)\n",
    "    cat2 = np.radians(cat2)\n",
    "    order = np.argsort(cat2[:,1])\n",
    "    cat2_ordered = cat2[order]\n",
    "       \n",
    "    for id1, (ra1, dec1) in enumerate(cat1):\n",
    "        min_dist = np.inf\n",
    "        min_id2 = None\n",
    "        max_dec = dec1 + max_radius\n",
    "        min_dec = dec1 - max_radius\n",
    "        \n",
    "        min_decs_index = np.searchsorted(cat2_ordered[:,1], min_dec, side='left')\n",
    "        max_decs_index = np.searchsorted(cat2_ordered[:,1], max_dec, side='right')      \n",
    "        \n",
    "        # min_decs_index in the enumerate is used to tell from which point should id2 start (not zero)\n",
    "        for id2, (ra2, dec2) in enumerate(cat2_ordered[min_decs_index:max_decs_index+1], min_decs_index): \n",
    "            if dec2 > max_dec:\n",
    "                break\n",
    "  \n",
    "            dist = angular_dist(ra1, dec1, ra2, dec2)\n",
    "            if dist < min_dist:\n",
    "                min_id2 = order[id2]\n",
    "                min_dist = dist\n",
    "\n",
    "        # Ignore match if it's outside the maximum radius\n",
    "        if min_dist > max_radius:\n",
    "            no_matches.append(id1)\n",
    "        else:\n",
    "            matches.append((id1, min_id2, np.degrees(min_dist)))\n",
    "    \n",
    "    time_taken = time.perf_counter() - start\n",
    "    return matches, no_matches, time_taken\n",
    "\n",
    "# You can use this to test your function.\n",
    "# Any code inside this `if` statement will be ignored by the automarker.\n",
    "\n",
    "# The example in the question\n",
    "cat1 = np.array([[180, 30], [45, 10], [300, -45]])\n",
    "cat2 = np.array([[180, 32], [55, 10], [302, -44]])\n",
    "matches, no_matches, time_taken = crossmatch(cat1, cat2, 5)\n",
    "print('matches:', matches)\n",
    "print('unmatched:', no_matches)\n",
    "print('time taken:', time_taken)\n",
    "\n",
    "# A function to create a random catalogue of size n\n",
    "def create_cat(n):\n",
    "    ras = np.random.uniform(0, 360, size=(n, 1))\n",
    "    decs = np.random.uniform(-90, 90, size=(n, 1))\n",
    "    return np.hstack((ras, decs))\n",
    "\n",
    "# Test your function on random inputs\n",
    "cat1 = create_cat(10)\n",
    "cat2 = create_cat(20)\n",
    "matches, no_matches, time_taken = crossmatch(cat1, cat2, 5)\n",
    "print('matches:', matches)\n",
    "print('unmatched:', no_matches)\n",
    "print('time taken:', time_taken)"
   ]
  },
  {
   "cell_type": "markdown",
   "id": "2b0d69f2-52ae-47b2-9d6e-364afb8403a1",
   "metadata": {},
   "source": [
    "## Space trees"
   ]
  },
  {
   "cell_type": "markdown",
   "id": "c725a36c-3c2b-402d-b14a-9911d0447cb2",
   "metadata": {},
   "source": [
    "Crossmatching is a very common task in astrophysics, so it's natural that it's had optimised implementations written of it already. A popular implementation in Python is found in the Astropy module and it uses objects called k-d trees to perform crossmatching incredibly quickly.\n",
    "\n",
    "k-d tree partioning\n",
    "Astropy constructs a k-d tree out of the second catalogue, letting it search through for a match for each object in the first catalogue efficiently. Constructing a k-d tree is similar to the binary search you saw earlier. The k-dimensional space is divided into two parts recursively until each division only contains only a single object. Creating a k-d tree from an astronomy catalogue works like this:\n",
    "\n",
    "Find the object with the median right ascension, split the catalogue into objects left and right partitions of this\n",
    "Find the objects with the median declination in each partition, split the partitions into smaller partitions of objects down and up of these\n",
    "Find the objects with median right ascension in each of the partitions, split the partitions into smaller partitions of objects left and right of these\n",
    "Repeat 2-3 until each partition only has one object in it\n",
    "This creates a binary tree where each object used to split a partition (a node) links to the two objects that then split the partitions it has created (its children)."
   ]
  },
  {
   "cell_type": "markdown",
   "id": "433f89d6-7a44-4638-8e0d-8a0b4ca80b4d",
   "metadata": {},
   "source": [
    "![title](pic1.png)\n"
   ]
  },
  {
   "cell_type": "markdown",
   "id": "58890006-f460-4fc1-8bba-e89397f81592",
   "metadata": {},
   "source": [
    "Once you've made a k-d tree out of a catalogue, finding a match to an object then works like this:\n",
    "\n",
    "Calculate the distance from the object to highest level node (the root node), then go to the child node closest (in right ascension) to the object\n",
    "Calculate the distance from the object to this child, then go to the child node closest (in declination) to the object\n",
    "Calculate the distance from the object to this child, then go to the child node closest (in right ascension) to the object\n",
    "Repeat 2-3 until you reach a child node with no further children (a leaf node)\n",
    "Find the shortest distance of all distances calculated, this corresponds to the closest object\n",
    "Since each node branches into two children, a catalogue of  \n",
    "N\n",
    "  objects will have, on average,  \n",
    "log\n",
    "2\n",
    "(\n",
    "N\n",
    ")\n",
    "  nodes from the root to any leaf. So while it seems like a lot of effort to create a k-d tree, doing so lets you, for example, search the entire SuperCOSMOS catalogue of 250 million objects using only 28 distance calculations."
   ]
  },
  {
   "cell_type": "markdown",
   "id": "ea203643-99ea-48b2-96e9-0cf7a9389bdf",
   "metadata": {},
   "source": [
    "![title](pic2.png)\n"
   ]
  },
  {
   "cell_type": "markdown",
   "id": "80c9d50d-4586-4713-be9f-73a721222e82",
   "metadata": {},
   "source": [
    "Here's an example of using Astropy to crossmatch two catalogues with 2 objects each:\n"
   ]
  },
  {
   "cell_type": "code",
   "execution_count": 54,
   "id": "c0799e22-1a85-433a-84b5-2ebb879cf762",
   "metadata": {},
   "outputs": [
    {
     "name": "stdout",
     "output_type": "stream",
     "text": [
      "[1 0]\n",
      "[8d39m27.00009472s 5d00m00s]\n"
     ]
    }
   ],
   "source": [
    "from astropy.coordinates import SkyCoord\n",
    "from astropy import units as u\n",
    "coords1 = [[270, -30], [185, 15]]\n",
    "coords2 = [[185, 20], [280, -30]]\n",
    "sky_cat1 = SkyCoord(coords1*u.degree, frame='icrs')\n",
    "sky_cat2 = SkyCoord(coords2*u.degree, frame='icrs')\n",
    "closest_ids, closest_dists, closest_dists3d = sky_cat1.match_to_catalog_sky(sky_cat2)\n",
    "print(closest_ids)\n",
    "print(closest_dists)\n"
   ]
  },
  {
   "cell_type": "markdown",
   "id": "fac27f27-a0d1-47bb-8236-5a2c6c6aa907",
   "metadata": {},
   "source": [
    "The SkyCoord objects are general purpose sky catalogue storage and manipulation objects in Astropy. They take anything that looks like an array of coordinates as long as you specify the units (here we specify degrees with u.degree) and a reference frame (ICRS is essentially the same as equatorial coordinates. The outputs, closest_id and closest_dists give the matching object's row index in sky_cat2 and the distance to it. closest_dists is the angular distance while closest_dists3d is the 3D distance which we're not concerned with here."
   ]
  },
  {
   "cell_type": "markdown",
   "id": "e52b4fbb-1861-4da7-ad83-ee526c5d45c0",
   "metadata": {},
   "source": [
    "Copy your crossmatch solution from Microoptimisation and (substantially!) modify it to use Astropy to perform the matching.\n",
    "\n",
    "The return values should behave the same way as the original function, given the same arguments, except time_taken should be noticeably smaller for large catalogues.\n",
    "\n",
    "We will test your function on random input arrays. We've included the function create_cat in the starting file to generate random arrays so you can test your function yourself."
   ]
  },
  {
   "cell_type": "code",
   "execution_count": 60,
   "id": "e582d61d-2897-43d4-a503-637c9e81ccc2",
   "metadata": {},
   "outputs": [
    {
     "name": "stdout",
     "output_type": "stream",
     "text": [
      "matches: [[0, 0, 2.0000000000000036], [2, 2, 1.7420109046547163]]\n",
      "unmatched: [1]\n",
      "time taken: 0.005985260009765625\n",
      "matches: []\n",
      "unmatched: [0, 1, 2, 3, 4, 5, 6, 7, 8, 9]\n",
      "time taken: 0.005992412567138672\n"
     ]
    }
   ],
   "source": [
    "from astropy.coordinates import SkyCoord\n",
    "from astropy import units as u\n",
    "from time import time\n",
    "import numpy as np\n",
    "\n",
    "def crossmatch(coords1, coords2, radius):\n",
    "    start_time = time()\n",
    "    max_radius = radius\n",
    "    matches = []\n",
    "    no_matches = []\n",
    "    \n",
    "    # Convert to astropy coordinates objects\n",
    "    coords1_sc = SkyCoord(coords1*u.degree, frame='icrs')\n",
    "    coords2_sc = SkyCoord(coords2*u.degree, frame='icrs')\n",
    "    \n",
    "    # Perform crossmatching\n",
    "    closest_ids, closest_dists, _ = coords1_sc.match_to_catalog_sky(coords2_sc)\n",
    "    \n",
    "    for id1, (closest_id2, dist) in enumerate(zip(closest_ids, closest_dists)):\n",
    "        closest_dist = dist.value\n",
    "        # Ignore match if it's outside the maximum radius\n",
    "        if closest_dist > max_radius:\n",
    "            no_matches.append(id1)\n",
    "        else:\n",
    "            matches.append([id1, closest_id2, closest_dist])\n",
    "    \n",
    "    time_taken = time() - start_time\n",
    "    return matches, no_matches, time_taken\n",
    "\n",
    "# The example in the question\n",
    "cat1 = np.array([[180, 30], [45, 10], [300, -45]])\n",
    "cat2 = np.array([[180, 32], [55, 10], [302, -44]])\n",
    "matches, no_matches, time_taken = crossmatch(cat1, cat2, 5)\n",
    "print('matches:', matches)\n",
    "print('unmatched:', no_matches)\n",
    "print('time taken:', time_taken)\n",
    "\n",
    "# A function to create a random catalogue of size n\n",
    "def create_cat(n):\n",
    "    ras = np.random.uniform(0, 360, size=(n, 1))\n",
    "    decs = np.random.uniform(-90, 90, size=(n, 1))\n",
    "    return np.hstack((ras, decs))\n",
    "\n",
    "# Test your function on random inputs\n",
    "cat1 = create_cat(10)\n",
    "cat2 = create_cat(20)\n",
    "matches, no_matches, time_taken = crossmatch(cat1, cat2, 5)\n",
    "print('matches:', matches)\n",
    "print('unmatched:', no_matches)\n",
    "print('time taken:', time_taken)"
   ]
  },
  {
   "cell_type": "code",
   "execution_count": null,
   "id": "6bd8c86d-9f39-43e5-8de8-250059a95c52",
   "metadata": {},
   "outputs": [],
   "source": []
  }
 ],
 "metadata": {
  "kernelspec": {
   "display_name": "Python 3 (ipykernel)",
   "language": "python",
   "name": "python3"
  },
  "language_info": {
   "codemirror_mode": {
    "name": "ipython",
    "version": 3
   },
   "file_extension": ".py",
   "mimetype": "text/x-python",
   "name": "python",
   "nbconvert_exporter": "python",
   "pygments_lexer": "ipython3",
   "version": "3.8.11"
  }
 },
 "nbformat": 4,
 "nbformat_minor": 5
}
