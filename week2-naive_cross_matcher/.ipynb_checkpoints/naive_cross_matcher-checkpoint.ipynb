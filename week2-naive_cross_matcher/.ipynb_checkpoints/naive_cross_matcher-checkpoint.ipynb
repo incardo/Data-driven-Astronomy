{
 "cells": [
  {
   "cell_type": "markdown",
   "id": "3539892a-aa3b-4386-b203-3e6b88a4ff45",
   "metadata": {},
   "source": [
    "# Conversion functions (HMS and DMS to decimal degrees)"
   ]
  },
  {
   "cell_type": "code",
   "execution_count": 24,
   "id": "58483075-0836-48fb-9117-489fd5d05698",
   "metadata": {},
   "outputs": [],
   "source": [
    "# Write your hms2dec and dms2dec functions here\n",
    "def sign(x): \n",
    "    return x/abs(x)\n",
    "\n",
    "def dms2dec(hours, arcminutes, arcseconds):\n",
    "    return (abs(hours)+arcminutes/60+arcseconds/(60*60))*sign(hours)\n",
    "\n",
    "def hms2dec(hours, minutes, seconds):\n",
    "    return 15*(hours+minutes/60+seconds/(60*60))\n",
    "\n",
    "# You can use this to test your function.\n",
    "# Any code inside this `if` statement will be ignored by the automarker.\n",
    "if __name__ == '__main__':\n",
    "  # The first example from the question\n",
    "  print(hms2dec(23, 12, 6))\n",
    "\n",
    "  # The second example from the question\n",
    "  print(dms2dec(22, 57, 18))\n",
    "\n",
    "  # The third example from the question\n",
    "  print(dms2dec(-66, 5, 5.1))"
   ]
  },
  {
   "cell_type": "code",
   "execution_count": 17,
   "id": "6d0e7977-dfd8-4581-8907-4318f77dc9b9",
   "metadata": {},
   "outputs": [
    {
     "name": "stdout",
     "output_type": "stream",
     "text": [
      "348.025\n"
     ]
    }
   ],
   "source": [
    "print(hms2dec(23, 12, 6))"
   ]
  },
  {
   "cell_type": "code",
   "execution_count": 23,
   "id": "55f4ad05-9a49-4151-b59c-a22edabecd5d",
   "metadata": {},
   "outputs": [
    {
     "data": {
      "text/plain": [
       "-1.0"
      ]
     },
     "execution_count": 23,
     "metadata": {},
     "output_type": "execute_result"
    }
   ],
   "source": [
    "sign(-66)"
   ]
  },
  {
   "cell_type": "code",
   "execution_count": 21,
   "id": "b6b67c4c-8390-46a3-aa47-42bb9c4e1bac",
   "metadata": {},
   "outputs": [
    {
     "data": {
      "text/plain": [
       "True"
      ]
     },
     "execution_count": 21,
     "metadata": {},
     "output_type": "execute_result"
    }
   ],
   "source": [
    "-66<=0"
   ]
  },
  {
   "cell_type": "markdown",
   "id": "0efbb5d6-fe9e-4e2e-bffa-c48bd25a8bae",
   "metadata": {},
   "source": [
    "# Angular distance"
   ]
  },
  {
   "cell_type": "code",
   "execution_count": 25,
   "id": "8b22dae4-189f-45ad-923c-7feb9b81275c",
   "metadata": {},
   "outputs": [],
   "source": [
    "import numpy as np"
   ]
  },
  {
   "cell_type": "code",
   "execution_count": 37,
   "id": "6034a268-be69-43e4-a0c2-98a3d5122a9f",
   "metadata": {},
   "outputs": [
    {
     "name": "stdout",
     "output_type": "stream",
     "text": [
      "8.100392318146504\n",
      "29.208498180546595\n"
     ]
    }
   ],
   "source": [
    "# Write your angular_dist function here.\n",
    "import numpy as np\n",
    "def angular_dist(a_deg1, d_deg1, a_deg2, d_deg2):\n",
    "    \n",
    "    a_rad1, d_rad1, a_rad2, d_rad2 = np.radians([a_deg1, d_deg1, a_deg2, d_deg2])\n",
    "\n",
    "    a = np.sin(abs(d_rad1-d_rad2)/2)**2\n",
    "    b = np.cos(d_rad1)*np.cos(d_rad2)*np.sin(np.abs(a_rad1 - a_rad2)/2)**2\n",
    "    d = 2*np.arcsin(np.sqrt(a + b))\n",
    "    \n",
    "    return np.degrees(d)\n",
    "\n",
    "# You can use this to test your function.\n",
    "# Any code inside this `if` statement will be ignored by the automarker.\n",
    "if __name__ == '__main__':\n",
    "  # Run your function with the first example in the question.\n",
    "  print(angular_dist(21.07, 0.1, 21.15, 8.2))\n",
    "\n",
    "  # Run your function with the second example in the question\n",
    "  print(angular_dist(10.3, -3, 24.3, -29))\n"
   ]
  },
  {
   "cell_type": "code",
   "execution_count": 32,
   "id": "8bafcfeb-117f-4c60-b8c6-2aefecc4ea25",
   "metadata": {},
   "outputs": [],
   "source": [
    "a, b, c = np.radians([30, 20, 60])"
   ]
  },
  {
   "cell_type": "code",
   "execution_count": 33,
   "id": "946632ac-d1ff-46a7-a1e2-df2c63a1af30",
   "metadata": {},
   "outputs": [
    {
     "data": {
      "text/plain": [
       "0.5235987755982988"
      ]
     },
     "execution_count": 33,
     "metadata": {},
     "output_type": "execute_result"
    }
   ],
   "source": [
    "a"
   ]
  },
  {
   "cell_type": "code",
   "execution_count": 34,
   "id": "9b63fd06-b2a6-4079-b0be-dea9a2b7782c",
   "metadata": {},
   "outputs": [
    {
     "data": {
      "text/plain": [
       "0.3490658503988659"
      ]
     },
     "execution_count": 34,
     "metadata": {},
     "output_type": "execute_result"
    }
   ],
   "source": [
    "b"
   ]
  },
  {
   "cell_type": "code",
   "execution_count": 35,
   "id": "1b1bb17f-6786-4569-8449-34e21ee3dbe1",
   "metadata": {},
   "outputs": [
    {
     "data": {
      "text/plain": [
       "1.0471975511965976"
      ]
     },
     "execution_count": 35,
     "metadata": {},
     "output_type": "execute_result"
    }
   ],
   "source": [
    "c"
   ]
  },
  {
   "cell_type": "markdown",
   "id": "2fd6c888-880f-4958-9d1a-e2c5c876858d",
   "metadata": {},
   "source": [
    "### Import datasets"
   ]
  },
  {
   "cell_type": "code",
   "execution_count": 38,
   "id": "8475e1f1-63bd-46df-8b94-d86d701b6ea0",
   "metadata": {},
   "outputs": [
    {
     "name": "stdout",
     "output_type": "stream",
     "text": [
      "[  0.     4.    35.65 -47.    36.    19.1 ]\n",
      "[[  1.0583407 -52.9162402]\n",
      " [  2.6084425 -41.5005753]\n",
      " [  2.7302499 -27.706955 ]]\n"
     ]
    },
    {
     "ename": "NameError",
     "evalue": "name 'import_bss' is not defined",
     "output_type": "error",
     "traceback": [
      "\u001b[1;31m---------------------------------------------------------------------------\u001b[0m",
      "\u001b[1;31mNameError\u001b[0m                                 Traceback (most recent call last)",
      "\u001b[1;32m~\\AppData\\Local\\Temp/ipykernel_10164/3977258915.py\u001b[0m in \u001b[0;36m<module>\u001b[1;34m\u001b[0m\n\u001b[0;32m     13\u001b[0m \u001b[1;32mif\u001b[0m \u001b[0m__name__\u001b[0m \u001b[1;33m==\u001b[0m \u001b[1;34m'__main__'\u001b[0m\u001b[1;33m:\u001b[0m\u001b[1;33m\u001b[0m\u001b[1;33m\u001b[0m\u001b[0m\n\u001b[0;32m     14\u001b[0m   \u001b[1;31m# Output of the import_bss and import_super functions\u001b[0m\u001b[1;33m\u001b[0m\u001b[1;33m\u001b[0m\u001b[1;33m\u001b[0m\u001b[0m\n\u001b[1;32m---> 15\u001b[1;33m   \u001b[0mbss_cat\u001b[0m \u001b[1;33m=\u001b[0m \u001b[0mimport_bss\u001b[0m\u001b[1;33m(\u001b[0m\u001b[1;33m)\u001b[0m\u001b[1;33m\u001b[0m\u001b[1;33m\u001b[0m\u001b[0m\n\u001b[0m\u001b[0;32m     16\u001b[0m   \u001b[0msuper_cat\u001b[0m \u001b[1;33m=\u001b[0m \u001b[0mimport_super\u001b[0m\u001b[1;33m(\u001b[0m\u001b[1;33m)\u001b[0m\u001b[1;33m\u001b[0m\u001b[1;33m\u001b[0m\u001b[0m\n\u001b[0;32m     17\u001b[0m   \u001b[0mprint\u001b[0m\u001b[1;33m(\u001b[0m\u001b[0mbss_cat\u001b[0m\u001b[1;33m)\u001b[0m\u001b[1;33m\u001b[0m\u001b[1;33m\u001b[0m\u001b[0m\n",
      "\u001b[1;31mNameError\u001b[0m: name 'import_bss' is not defined"
     ]
    }
   ],
   "source": [
    "# Write your import_bss function here.\n",
    "\n",
    "import numpy as np\n",
    "\n",
    "def import_bss():\n",
    "    \n",
    "    cat = np.loadtxt('bss.dat', usecols=range(1, 7))\n",
    "    print(cat[0])\n",
    "\n",
    "cat = np.loadtxt('super.csv', delimiter=',', skiprows=1, usecols=[0, 1])\n",
    "print(cat)\n",
    "\n",
    "# You can use this to test your function.\n",
    "# Any code inside this `if` statement will be ignored by the automarker.\n",
    "if __name__ == '__main__':\n",
    "  # Output of the import_bss and import_super functions\n",
    "  bss_cat = import_bss()\n",
    "  super_cat = import_super()\n",
    "  print(bss_cat)\n",
    "  print(super_cat)"
   ]
  },
  {
   "cell_type": "code",
   "execution_count": 39,
   "id": "96412ed5-d73c-4cff-82df-bffa7a3099aa",
   "metadata": {},
   "outputs": [
    {
     "name": "stdout",
     "output_type": "stream",
     "text": [
      "[  0.     4.    35.65 -47.    36.    19.1 ]\n"
     ]
    }
   ],
   "source": [
    "    cat = np.loadtxt('bss.dat', usecols=range(1, 7))\n",
    "    print(cat[0])"
   ]
  },
  {
   "cell_type": "code",
   "execution_count": 40,
   "id": "a9491626-29d4-48e6-abc0-a618dadf69a7",
   "metadata": {},
   "outputs": [
    {
     "data": {
      "text/plain": [
       "array([  0.  ,   4.  ,  35.65, -47.  ,  36.  ,  19.1 ])"
      ]
     },
     "execution_count": 40,
     "metadata": {},
     "output_type": "execute_result"
    }
   ],
   "source": [
    "cat[0]"
   ]
  },
  {
   "cell_type": "code",
   "execution_count": null,
   "id": "eb71e2ae-18a2-4dcf-962b-3c532b3b5121",
   "metadata": {},
   "outputs": [],
   "source": []
  }
 ],
 "metadata": {
  "kernelspec": {
   "display_name": "Python 3 (ipykernel)",
   "language": "python",
   "name": "python3"
  },
  "language_info": {
   "codemirror_mode": {
    "name": "ipython",
    "version": 3
   },
   "file_extension": ".py",
   "mimetype": "text/x-python",
   "name": "python",
   "nbconvert_exporter": "python",
   "pygments_lexer": "ipython3",
   "version": "3.8.11"
  }
 },
 "nbformat": 4,
 "nbformat_minor": 5
}
