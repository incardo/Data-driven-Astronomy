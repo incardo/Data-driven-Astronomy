{
 "cells": [
  {
   "cell_type": "markdown",
   "id": "84ec241b-22a2-46bc-84eb-0346d9c6fb52",
   "metadata": {},
   "source": [
    "# Week 2: A naive cross-matcher"
   ]
  },
  {
   "cell_type": "markdown",
   "id": "b7e054f5-2409-4f08-bc37-d8ae8dad4e11",
   "metadata": {},
   "source": [
    "When investigating astronomical objects, like active galactic nuclei (AGN), astronomers compare data about those objects from different telescopes at different wavelengths.\n",
    "\n",
    "This requires positional cross-matching to find the closest counterpart within a given radius on the sky.\n",
    "\n",
    "In this activity you'll cross-match two catalogues: one from a radio survey, the AT20G Bright Source Sample (BSS) catalogue and one from an optical survey, the SuperCOSMOS all-sky galaxy catalogue.\n",
    "\n",
    "The BSS catalogue lists the brightest sources from the AT20G radio survey while the SuperCOSMOS catalogue lists galaxies observed by visible light surveys. If we can find an optical match for our radio source, we are one step closer to working out what kind of object it is, e.g. a galaxy in the local Universe or a distant quasar.\n",
    "\n",
    "We've chosen one small catalogue (BSS has only 320 objects) and one large one (SuperCOSMOS has about 240 million) to demonstrate the issues you can encounter when implementing cross-matching algorithms."
   ]
  },
  {
   "cell_type": "markdown",
   "id": "09ea0c16-20dd-4d21-8d28-259a27e884d1",
   "metadata": {},
   "source": [
    "The positions of stars, galaxies and other astronomical objects are usually recorded in either equatorial or Galactic coordinates.\n",
    "\n",
    "Equatorial coordinates are fixed relative to the celestial sphere, so the positions are independent of when or where the observations took place. They are defined relative to the celestial equator (which is in the same plane as the Earth's equator) and the ecliptic (the path the sun traces throughout the year).\n",
    "\n",
    "A point on the celestial sphere is given by two coordinates:\n",
    "\n",
    "Right ascension: the angle from the vernal equinox to the point, going east along the celestial equator;\n",
    "Declination: the angle from the celestial equator to the point, going north (negative values indicate going south).\n",
    "The vernal equinox is the intersection of the celestial equator and the ecliptic where the ecliptic rises above the celestial equator going further east.\n",
    "\n",
    "The coordinates of stars in the sky will change slightly over the years due to the slow wobble of Earth's axis. Therefore, it is important to specify the epoch or time period which we are using as a reference for the celestial coordinate system."
   ]
  },
  {
   "cell_type": "code",
   "execution_count": 10,
   "id": "8b22dae4-189f-45ad-923c-7feb9b81275c",
   "metadata": {},
   "outputs": [],
   "source": [
    "import numpy as np"
   ]
  },
  {
   "cell_type": "markdown",
   "id": "3539892a-aa3b-4386-b203-3e6b88a4ff45",
   "metadata": {},
   "source": [
    "## Conversion functions (HMS and DMS to decimal degrees)"
   ]
  },
  {
   "cell_type": "code",
   "execution_count": 8,
   "id": "58483075-0836-48fb-9117-489fd5d05698",
   "metadata": {},
   "outputs": [
    {
     "name": "stdout",
     "output_type": "stream",
     "text": [
      "348.025\n",
      "22.955\n",
      "-66.08475\n"
     ]
    }
   ],
   "source": [
    "# Write your hms2dec and dms2dec functions here\n",
    "def sign(x): \n",
    "    return x/abs(x)\n",
    "\n",
    "def dms2dec(hours, arcminutes, arcseconds):\n",
    "    return (abs(hours)+arcminutes/60+arcseconds/(60*60))*sign(hours)\n",
    "\n",
    "def hms2dec(hours, minutes, seconds):\n",
    "    return 15*(hours+minutes/60+seconds/(60*60))\n",
    "\n",
    "# You can use this to test your function.\n",
    "# Any code inside this `if` statement will be ignored by the automarker.\n",
    "if __name__ == '__main__':\n",
    "  # The first example from the question\n",
    "  print(hms2dec(23, 12, 6))\n",
    "\n",
    "  # The second example from the question\n",
    "  print(dms2dec(22, 57, 18))\n",
    "\n",
    "  # The third example from the question\n",
    "  print(dms2dec(-66, 5, 5.1))"
   ]
  },
  {
   "cell_type": "code",
   "execution_count": 9,
   "id": "6d0e7977-dfd8-4581-8907-4318f77dc9b9",
   "metadata": {},
   "outputs": [
    {
     "name": "stdout",
     "output_type": "stream",
     "text": [
      "348.025\n"
     ]
    }
   ],
   "source": [
    "print(hms2dec(23, 12, 6))"
   ]
  },
  {
   "cell_type": "markdown",
   "id": "0efbb5d6-fe9e-4e2e-bffa-c48bd25a8bae",
   "metadata": {},
   "source": [
    "## Angular distance"
   ]
  },
  {
   "cell_type": "code",
   "execution_count": 29,
   "id": "6034a268-be69-43e4-a0c2-98a3d5122a9f",
   "metadata": {},
   "outputs": [
    {
     "name": "stdout",
     "output_type": "stream",
     "text": [
      "8.100392318146504\n",
      "29.208498180546595\n"
     ]
    }
   ],
   "source": [
    "# Write your angular_dist function here.\n",
    "def angular_dist(a_deg1, d_deg1, a_deg2, d_deg2):\n",
    "    \n",
    "    a_rad1, d_rad1, a_rad2, d_rad2 = np.radians([a_deg1, d_deg1, a_deg2, d_deg2])\n",
    "\n",
    "    a = np.sin(abs(d_rad1-d_rad2)/2)**2\n",
    "    b = np.cos(d_rad1)*np.cos(d_rad2)*np.sin(np.abs(a_rad1 - a_rad2)/2)**2\n",
    "    d = 2*np.arcsin(np.sqrt(a + b))\n",
    "    \n",
    "    return np.degrees(d)\n",
    "\n",
    "# You can use this to test your function.\n",
    "# Any code inside this `if` statement will be ignored by the automarker.\n",
    "if __name__ == '__main__':\n",
    "  # Run your function with the first example in the question.\n",
    "  print(angular_dist(21.07, 0.1, 21.15, 8.2))\n",
    "\n",
    "  # Run your function with the second example in the question\n",
    "  print(angular_dist(10.3, -3, 24.3, -29))\n"
   ]
  },
  {
   "cell_type": "markdown",
   "id": "2fd6c888-880f-4958-9d1a-e2c5c876858d",
   "metadata": {},
   "source": [
    "## Import datasets"
   ]
  },
  {
   "cell_type": "code",
   "execution_count": 67,
   "id": "8475e1f1-63bd-46df-8b94-d86d701b6ea0",
   "metadata": {},
   "outputs": [
    {
     "name": "stdout",
     "output_type": "stream",
     "text": [
      "[(1, 1.1485416666666666, -47.60530555555556), (2, 2.6496666666666666, -30.463416666666667), (3, 2.7552916666666665, -26.209194444444442)]\n",
      "[(1, 1.0583407, -52.9162402), (2, 2.6084425, -41.5005753), (3, 2.7302499, -27.706955)]\n"
     ]
    }
   ],
   "source": [
    "# Write your import_bss function here.\n",
    "\n",
    "def import_bss():\n",
    "    cat = np.loadtxt('bss.dat', usecols=range(1, 7))\n",
    "    tuple_list = []\n",
    "    for i, star in enumerate(cat):\n",
    "        tuple_list.append(\n",
    "            (i+1, hms2dec(star[0], star[1], star[2]), dms2dec(star[3], star[4], star[5]))\n",
    "        )\n",
    "    return tuple_list\n",
    "\n",
    "def import_super():\n",
    "    cat = np.loadtxt('super.csv', delimiter=',', skiprows=1, usecols=[0, 1])\n",
    "    tuple_list = []\n",
    "    for i, star in enumerate(cat):\n",
    "        tuple_list.append(\n",
    "            (i+1, star[0], star[1])\n",
    "        )\n",
    "    return tuple_list\n",
    "\n",
    "# You can use this to test your function.\n",
    "# Any code inside this `if` statement will be ignored by the automarker.\n",
    "# if __name__ == '__main__':\n",
    "#   # Output of the import_bss and import_super functions\n",
    "bss_cat = import_bss()\n",
    "super_cat = import_super()\n",
    "print(bss_cat)\n",
    "print(super_cat)"
   ]
  },
  {
   "cell_type": "markdown",
   "id": "533bedc1-8e85-4041-996f-f6f66295a12a",
   "metadata": {},
   "source": [
    "## Find_closest function"
   ]
  },
  {
   "cell_type": "markdown",
   "id": "cb36e0d5-b3bf-408e-9515-86f63d1220a1",
   "metadata": {},
   "source": [
    "Write a find_closest function that takes a catalogue and the position of a target source (a right ascension and declination) and finds the closest match for the target source in the catalogue.\n",
    "\n",
    "Your function should return the ID of the closest object and the distance to that object.\n",
    "\n",
    "The right ascension and declination are in degrees. The catalogue list has been loaded by import_bss from the previous question. The full 320 object BSS catalogue is contained in bss.dat for you to test your code on."
   ]
  },
  {
   "cell_type": "code",
   "execution_count": 41,
   "id": "3a819e1d-2739-4c44-8e5a-f9e4d4f406dd",
   "metadata": {},
   "outputs": [
    {
     "name": "stdout",
     "output_type": "stream",
     "text": [
      "(156, 3.7670580226469053)\n",
      "(26, 57.729135775621295)\n"
     ]
    }
   ],
   "source": [
    "# Write your find_closest function here\n",
    "\n",
    "def import_bss():\n",
    "    cat = np.loadtxt('bss_full.dat', usecols=range(1, 7))\n",
    "    tuple_list = []\n",
    "    for i, star in enumerate(cat):\n",
    "        tuple_list.append(\n",
    "            (i+1, hms2dec(star[0], star[1], star[2]), dms2dec(star[3], star[4], star[5]))\n",
    "        )\n",
    "    return tuple_list\n",
    "\n",
    "def find_closest(cat, ra_source, dec_source):\n",
    "    min_dist = 999999999\n",
    "    coordinates = []\n",
    "    for i, star in enumerate(cat):\n",
    "        found_dist = angular_dist(ra_source, dec_source, star[1], star[2])\n",
    "        if found_dist <= min_dist:\n",
    "            min_dist = found_dist\n",
    "            coordinates = (star[1], star[2])\n",
    "            id_ = i+1\n",
    "            #print(\"new closest star at\", coordinates, \"distance\", min_dist, \"id\", id_)\n",
    "    return (id_, min_dist)\n",
    "        \n",
    "# You can use this to test your function.\n",
    "# Any code inside this `if` statement will be ignored by the automarker.\n",
    "#if __name__ == '__main__':\n",
    "cat = import_bss()\n",
    "\n",
    "# First example from the question\n",
    "print(find_closest(cat, 175.3, -32.5))\n",
    "\n",
    "# Second example in the question\n",
    "print(find_closest(cat, 32.2, 40.7))\n"
   ]
  },
  {
   "cell_type": "markdown",
   "id": "0b01a277-1100-4077-a0d9-a4061f2e928d",
   "metadata": {},
   "source": [
    "## A full cross-matching program"
   ]
  },
  {
   "cell_type": "markdown",
   "id": "f87d806d-11b7-4996-9b02-948d09766db4",
   "metadata": {},
   "source": [
    "You now have all the tools necessary to crossmatch the BSS and SuperCOSMOS catalogues. In the next problem you'll put it all together to see how many of the bright radio sources in the BSS catalogue have a counterpart in the SuperCOSMOS catalogue. The process you should follow is:\n",
    "\n",
    "1. Select an object from the BSS catalogue;\n",
    "2. Go through all the objects in SuperCOSMOS and find the closest one to the BSS object;\n",
    "3. If the objects are close enough, record the match;\n",
    "4. Repeat 1-3 for all the other objects in the BSS catalogue.\n",
    "\n",
    "In step 3, if the closest object isn't within a given distance then it's unlikely that the two objects are actually counterparts, and it's more likely that they just happen to be nearby.\n",
    "The given distance you choose depends on the uncertainty of the measured object positions in each catalogue.\n",
    "Although we are cross matching based solely on celestial coordinates in the following exercise, there are other properties we could consider while conducting research, such as the brightness and color of an object.\n",
    "\n",
    "Write a crossmatch function that crossmatches two catalogues within a maximum distance. It should return a list of matches and non-matches for the first catalogue against the second.\n",
    "\n",
    "The list of matches contains tuples of the first and second catalogue object IDs and their distance. The list of non-matches contains the unmatched object IDs from the first catalogue only. Both lists should be ordered by the first catalogue's IDs.\n",
    "\n",
    "The BSS and SuperCOSMOS catalogues will be given as input arguments, each in the format you’ve seen previously. The maximum distance is given in decimal degrees."
   ]
  },
  {
   "cell_type": "code",
   "execution_count": 62,
   "id": "451036b8-0356-4505-bdb0-baa104f9fada",
   "metadata": {},
   "outputs": [],
   "source": [
    "def import_bss():\n",
    "    cat = np.loadtxt('bss_medium.dat', usecols=range(1, 7))\n",
    "    tuple_list = []\n",
    "    for i, star in enumerate(cat):\n",
    "        tuple_list.append(\n",
    "            (i+1, hms2dec(star[0], star[1], star[2]), dms2dec(star[3], star[4], star[5]))\n",
    "        )\n",
    "    return tuple_list\n",
    "\n",
    "def import_super():\n",
    "    cat = np.loadtxt('super_full.csv', delimiter=',', skiprows=1, usecols=[0, 1])\n",
    "    tuple_list = []\n",
    "    for i, star in enumerate(cat):\n",
    "        tuple_list.append(\n",
    "            (i+1, star[0], star[1])\n",
    "        )\n",
    "    return tuple_list\n"
   ]
  },
  {
   "cell_type": "code",
   "execution_count": 66,
   "id": "8e714e43-8711-4c5d-890e-9123e03ab0b9",
   "metadata": {},
   "outputs": [
    {
     "name": "stdout",
     "output_type": "stream",
     "text": [
      "[(1, 2, 0.00010988610938710059), (2, 4, 0.0007649845967242494), (3, 5, 0.00020863352870707666)]\n",
      "[5, 6, 11]\n",
      "9\n",
      "[(1, 2, 0.00010988610938710059), (2, 4, 0.0007649845967242494), (3, 5, 0.00020863352870707666)]\n",
      "[5, 6, 11]\n",
      "40\n"
     ]
    }
   ],
   "source": [
    "# Write your crossmatch function here.\n",
    "\n",
    "def crossmatch(bss_cat, super_cat, max_dist):\n",
    "    matches, no_matches = [], []\n",
    "\n",
    "    for bss_id, star in enumerate(bss_cat):\n",
    "        ra_source, dec_source = star[1], star[2]\n",
    "        super_id, dist = find_closest(super_cat, ra_source, dec_source)\n",
    "        #print(\"Checking distance for\", bss_id+1, dist <= max_dist, dist , max_dist)\n",
    "        if dist <= max_dist:\n",
    "            matches.append((bss_id+1, super_id, dist))\n",
    "        else:\n",
    "            no_matches.append(bss_id+1)\n",
    "    return matches, no_matches\n",
    "\n",
    "# You can use this to test your function.\n",
    "# Any code inside this `if` statement will be ignored by the automarker.\n",
    "\n",
    "bss_cat = import_bss()\n",
    "super_cat = import_super()\n",
    "\n",
    "# First example in the question\n",
    "max_dist = 40/3600\n",
    "matches, no_matches = crossmatch(bss_cat, super_cat, max_dist)\n",
    "print(matches[:3])\n",
    "print(no_matches[:3])\n",
    "print(len(no_matches))\n",
    "\n",
    "# Second example in the question\n",
    "max_dist = 5/3600\n",
    "matches, no_matches = crossmatch(bss_cat, super_cat, max_dist)\n",
    "print(matches[:3])\n",
    "print(no_matches[:3])\n",
    "print(len(no_matches))\n"
   ]
  }
 ],
 "metadata": {
  "kernelspec": {
   "display_name": "Python 3 (ipykernel)",
   "language": "python",
   "name": "python3"
  },
  "language_info": {
   "codemirror_mode": {
    "name": "ipython",
    "version": 3
   },
   "file_extension": ".py",
   "mimetype": "text/x-python",
   "name": "python",
   "nbconvert_exporter": "python",
   "pygments_lexer": "ipython3",
   "version": "3.8.11"
  }
 },
 "nbformat": 4,
 "nbformat_minor": 5
}
