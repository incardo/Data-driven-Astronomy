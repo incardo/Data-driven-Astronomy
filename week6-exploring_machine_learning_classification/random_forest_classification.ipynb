{
 "cells": [
  {
   "cell_type": "markdown",
   "id": "d373e1c2-df36-49c2-8a79-cde800410ba9",
   "metadata": {},
   "source": [
    "# Random forest classification of galaxies"
   ]
  },
  {
   "cell_type": "markdown",
   "id": "ce1980e0-b98a-4e4b-ace5-289148f48142",
   "metadata": {},
   "source": [
    "In this activity, we will be using machine learning to classify galaxies into three types (ellipticals, spirals or galactic mergers) based on their observed properties.\n",
    "\n",
    "In the last activity you had a go at classifying galaxies by hand on the Galaxy Zoo website which hopefully gave you some intuition for the dataset and how we can distinguish between the different types of galaxy.\n",
    "\n",
    "For our machine learning experiments, we are using the crowd-classified classes from Galaxy Zoo as the training data for our automatic decision tree classifier.\n",
    "\n",
    "We'll start by looking at how classification differs from regression. We will then implement some of the new features and parameters that we will use to reduce the dimensionality of the problem. We will also show you how to measure accuracy for classification problems, before extending our classifier to use random forests.\n",
    "\n",
    "If you would like to try this on your own machine, the data set can be downloaded here.\n",
    "\n",
    "If you are interested in applying neural networks to the Galaxy Zoo data, we recommend you read the blog post by Mike Walmsley and the paper (https://blog.galaxyzoo.org/tag/neural-networks/).\n"
   ]
  },
  {
   "cell_type": "markdown",
   "id": "1407ddf9-261a-428d-b4e9-9274591d05ff",
   "metadata": {},
   "source": [
    "In the last activity, you were a human classifier for the Galaxy Zoo project and probably saw a wide range of galaxy types observed by the Sloan Digital Sky Survey. In this activity, we will limit our dataset to three types of galaxy: spirals, ellipticals and mergers.\n",
    "\n",
    "The galaxy catalogue we are using is a sample of galaxies where at least 20 human classifiers (such as yourself) have come to a consensus on the galaxy type.\n",
    "\n",
    "Examples of spiral and elliptical galaxies were selected where there was a unanimous classification. Due to low sample numbers, we included merger examples where at least 80% of human classifiers selected the merger class.\n",
    "\n",
    "We need this high quality data to train our classifier."
   ]
  },
  {
   "cell_type": "markdown",
   "id": "692edf8d-6037-4f7c-8abb-dccddc7e40cb",
   "metadata": {},
   "source": [
    "Just like in the regression activities, we need to decide on a set of key features that represent our data.\n",
    "\n",
    "While approaches exist that determine their own feature representation and use the raw pixel values as inputs, e.g. neural networks and deep learning, the majority of existing machine learning in astronomy requires an expert to design the feature set.\n",
    "\n",
    "In this activity we will be using a set of features derived from fitting images according to known galaxy profiles.\n",
    "\n",
    "Most of the features we use here are based on the five observed flux magnitudes from the Sloan Digital Sky Survey filters:"
   ]
  },
  {
   "cell_type": "markdown",
   "id": "f56ae3d5-972e-4618-b001-a3d346165409",
   "metadata": {},
   "source": [
    "### The features"
   ]
  },
  {
   "cell_type": "markdown",
   "id": "486ab831-f8f4-412f-8a1b-4481ba0079d4",
   "metadata": {},
   "source": [
    "The features that we will be using to do our galaxy classification are colour index, adaptive moments, eccentricities and concentrations. These features are provided as part of the SDSS catalogue.\n",
    "\n",
    "We briefly describe these below. Further information how they are calculated can be found here.\n",
    "\n",
    "**Colour indices** are the same colours (u-g, g-r, r-i, and i-z) we used for regression. Studies of galaxy evolution tell us that spiral galaxies have younger star populations and therefore are 'bluer' (brighter at lower wavelengths). Elliptical galaxies have an older star population and are brighter at higher wavelengths ('redder').\n",
    "\n",
    "**Eccentricity** approximates the shape of the galaxy by fitting an ellipse to its profile. Eccentricity is the ratio of the two axis (semi-major and semi-minor). The De Vaucouleurs model was used to attain these two axis. To simplify our experiments, we will use the median eccentricity across the 5 filters.\n",
    "\n",
    "**Adaptive moments** are a measured quantity to describe the shape of a galaxy. They are used in image analysis to detect similar objects at different sizes and orientations. We use the fourth moment here for each band. You can read more about it here.\n",
    "\n",
    "**Concentration** is similar to the luminosity profile of the galaxy, which measures what proportion of a galaxy's total light is emitted within what radius. A simplified way to represent this is to take the ratio of the radii containing 50% and 90% of the Petrosian flux.\n",
    "\n",
    "The Petrosian method allows us to compare the radial profiles of galaxies at different distances. If you are interested, you can read more here on the need for Petrosian approach.\n",
    "\n",
    "For these experiments, we will define concentration as:\n",
    "\n",
    "We will use the concentration from the u, r and z bands"
   ]
  },
  {
   "cell_type": "markdown",
   "id": "28b1597e-25fa-485f-b792-56386113f3a5",
   "metadata": {},
   "source": [
    "### Split the data in train and test sets"
   ]
  },
  {
   "cell_type": "markdown",
   "id": "d3cdfbf7-f131-417e-b8fb-bf77211bce56",
   "metadata": {},
   "source": [
    "To start, we need to split the data into training and testing sets.\n",
    "\n",
    "Your task is to implement the splitdata_train_test function. It takes a NumPy array and splits it into a training and testing NumPy array based on the specified training fraction. The function takes two arguments and should return two values:\n",
    "\n",
    "Arguments\n",
    "data: the NumPy array containing the galaxies in the form described in the previous slide;\n",
    "fraction_training: the fraction of the data to use for training. This will be a float between 0 and 1.\n",
    "The number of training rows should be truncated if necessary. For example, with a fraction of 0.67 and our 780 galaxies, the number of training rows is 780*0.67 = 722.6, which should be truncated to 722 using int. The remaining rows should be used for testing.\n",
    "\n",
    "Return values\n",
    "training_set: the first value is a NumPy array training set;\n",
    "testing_set: the second value is a NumPy array testing set.\n",
    "Using the supplied driver code, and our input data and a fraction of 0.7, the program should print the following values:\n",
    "\n",
    "Number data galaxies: 780\n",
    "Train fraction: 0.7\n",
    "Number of galaxies in training set: 546\n",
    "Number of galaxies in testing set: 234"
   ]
  },
  {
   "cell_type": "code",
   "execution_count": 7,
   "id": "ab948263-bc5a-43cb-b0a0-3b546f0345ca",
   "metadata": {},
   "outputs": [],
   "source": [
    "import numpy as np\n",
    "data = np.load('galaxy_catalogue.npy')"
   ]
  },
  {
   "cell_type": "code",
   "execution_count": 4,
   "id": "b08a8b13-7e9b-4692-9f20-51231a3b804f",
   "metadata": {},
   "outputs": [],
   "source": [
    "np.random.seed(0)\n",
    "np.random.shuffle(data)"
   ]
  },
  {
   "cell_type": "code",
   "execution_count": 8,
   "id": "41f92491-d7c1-4f0b-92fe-698b18eec178",
   "metadata": {},
   "outputs": [
    {
     "data": {
      "text/plain": [
       "(1.85765, 0.67158, 0.4231, 0.3061, 0.5854284, 2.251946, 2.339849, 2.380652, 2.359738, 2.395528, 3.095123, 3.818919, 3.82623, 5.174814, 8.263009, 11.47734, 'merger')"
      ]
     },
     "execution_count": 8,
     "metadata": {},
     "output_type": "execute_result"
    }
   ],
   "source": [
    "data[0]"
   ]
  },
  {
   "cell_type": "code",
   "execution_count": 10,
   "id": "c5a88e53-4e1a-406d-9554-11d0e2565ab2",
   "metadata": {},
   "outputs": [
    {
     "name": "stdout",
     "output_type": "stream",
     "text": [
      "u-g        1.85765\n",
      "g-r        0.67158\n",
      "r-i        0.4231\n",
      "i-z        0.3061\n",
      "ecc        0.585428\n",
      "m4_u       2.25195\n",
      "m4_g       2.33985\n",
      "m4_r       2.38065\n",
      "m4_i       2.35974\n",
      "m4_z       2.39553\n",
      "petroR50_u 3.09512\n",
      "petroR50_r 3.81892\n",
      "petroR50_z 3.82623\n",
      "petroR90_u 5.17481\n",
      "petroR90_r 8.26301\n",
      "petroR90_z 11.4773\n",
      "class      merger\n"
     ]
    }
   ],
   "source": [
    "for name, value in zip(data.dtype.names, data[0]):\n",
    "  print('{:10} {:.6}'.format(name, value))"
   ]
  },
  {
   "cell_type": "code",
   "execution_count": 31,
   "id": "0d247018-3d19-4306-b5cc-2ca29870e20d",
   "metadata": {},
   "outputs": [],
   "source": [
    "features = data[sorted(set(data.dtype.names)-set(['class']))]"
   ]
  },
  {
   "cell_type": "code",
   "execution_count": 11,
   "id": "5811c401-c2f5-4ea6-bb6a-f92daf928683",
   "metadata": {
    "collapsed": true,
    "jupyter": {
     "outputs_hidden": true
    },
    "tags": []
   },
   "outputs": [
    {
     "data": {
      "text/plain": [
       "array(['merger', 'merger', 'merger', 'merger', 'merger', 'merger',\n",
       "       'merger', 'merger', 'merger', 'merger', 'merger', 'merger',\n",
       "       'merger', 'merger', 'merger', 'merger', 'merger', 'merger',\n",
       "       'merger', 'merger', 'merger', 'merger', 'merger', 'merger',\n",
       "       'merger', 'merger', 'merger', 'merger', 'merger', 'merger',\n",
       "       'merger', 'merger', 'merger', 'merger', 'merger', 'merger',\n",
       "       'merger', 'merger', 'merger', 'merger', 'merger', 'merger',\n",
       "       'merger', 'merger', 'merger', 'merger', 'merger', 'merger',\n",
       "       'merger', 'merger', 'merger', 'merger', 'merger', 'merger',\n",
       "       'merger', 'merger', 'merger', 'merger', 'merger', 'merger',\n",
       "       'merger', 'merger', 'merger', 'merger', 'merger', 'merger',\n",
       "       'merger', 'merger', 'merger', 'merger', 'merger', 'merger',\n",
       "       'merger', 'merger', 'merger', 'merger', 'merger', 'merger',\n",
       "       'merger', 'merger', 'merger', 'merger', 'merger', 'merger',\n",
       "       'merger', 'merger', 'merger', 'merger', 'merger', 'merger',\n",
       "       'merger', 'merger', 'merger', 'merger', 'merger', 'merger',\n",
       "       'merger', 'merger', 'merger', 'merger', 'merger', 'merger',\n",
       "       'merger', 'merger', 'merger', 'merger', 'merger', 'merger',\n",
       "       'merger', 'merger', 'merger', 'merger', 'merger', 'merger',\n",
       "       'merger', 'merger', 'merger', 'merger', 'merger', 'merger',\n",
       "       'merger', 'merger', 'merger', 'merger', 'merger', 'merger',\n",
       "       'merger', 'merger', 'merger', 'merger', 'merger', 'merger',\n",
       "       'merger', 'merger', 'merger', 'merger', 'merger', 'merger',\n",
       "       'merger', 'merger', 'merger', 'merger', 'merger', 'merger',\n",
       "       'merger', 'merger', 'merger', 'merger', 'merger', 'merger',\n",
       "       'merger', 'merger', 'merger', 'merger', 'merger', 'merger',\n",
       "       'merger', 'merger', 'merger', 'merger', 'merger', 'merger',\n",
       "       'merger', 'merger', 'merger', 'merger', 'merger', 'merger',\n",
       "       'merger', 'merger', 'merger', 'merger', 'merger', 'merger',\n",
       "       'merger', 'merger', 'merger', 'merger', 'merger', 'merger',\n",
       "       'merger', 'merger', 'merger', 'merger', 'merger', 'merger',\n",
       "       'merger', 'merger', 'merger', 'merger', 'merger', 'merger',\n",
       "       'merger', 'merger', 'merger', 'merger', 'merger', 'merger',\n",
       "       'merger', 'merger', 'merger', 'merger', 'merger', 'merger',\n",
       "       'merger', 'merger', 'merger', 'merger', 'merger', 'merger',\n",
       "       'merger', 'merger', 'merger', 'merger', 'merger', 'merger',\n",
       "       'merger', 'merger', 'merger', 'merger', 'merger', 'merger',\n",
       "       'merger', 'merger', 'merger', 'merger', 'merger', 'merger',\n",
       "       'merger', 'merger', 'merger', 'merger', 'merger', 'merger',\n",
       "       'merger', 'merger', 'merger', 'merger', 'merger', 'merger',\n",
       "       'merger', 'merger', 'merger', 'merger', 'merger', 'merger',\n",
       "       'merger', 'merger', 'merger', 'merger', 'merger', 'merger',\n",
       "       'merger', 'merger', 'merger', 'merger', 'merger', 'merger',\n",
       "       'merger', 'merger', 'elliptical', 'elliptical', 'elliptical',\n",
       "       'elliptical', 'elliptical', 'elliptical', 'elliptical',\n",
       "       'elliptical', 'elliptical', 'elliptical', 'elliptical',\n",
       "       'elliptical', 'elliptical', 'elliptical', 'elliptical',\n",
       "       'elliptical', 'elliptical', 'elliptical', 'elliptical',\n",
       "       'elliptical', 'elliptical', 'elliptical', 'elliptical',\n",
       "       'elliptical', 'elliptical', 'elliptical', 'elliptical',\n",
       "       'elliptical', 'elliptical', 'elliptical', 'elliptical',\n",
       "       'elliptical', 'elliptical', 'elliptical', 'elliptical',\n",
       "       'elliptical', 'elliptical', 'elliptical', 'elliptical',\n",
       "       'elliptical', 'elliptical', 'elliptical', 'elliptical',\n",
       "       'elliptical', 'elliptical', 'elliptical', 'elliptical',\n",
       "       'elliptical', 'elliptical', 'elliptical', 'elliptical',\n",
       "       'elliptical', 'elliptical', 'elliptical', 'elliptical',\n",
       "       'elliptical', 'elliptical', 'elliptical', 'elliptical',\n",
       "       'elliptical', 'elliptical', 'elliptical', 'elliptical',\n",
       "       'elliptical', 'elliptical', 'elliptical', 'elliptical',\n",
       "       'elliptical', 'elliptical', 'elliptical', 'elliptical',\n",
       "       'elliptical', 'elliptical', 'elliptical', 'elliptical',\n",
       "       'elliptical', 'elliptical', 'elliptical', 'elliptical',\n",
       "       'elliptical', 'elliptical', 'elliptical', 'elliptical',\n",
       "       'elliptical', 'elliptical', 'elliptical', 'elliptical',\n",
       "       'elliptical', 'elliptical', 'elliptical', 'elliptical',\n",
       "       'elliptical', 'elliptical', 'elliptical', 'elliptical',\n",
       "       'elliptical', 'elliptical', 'elliptical', 'elliptical',\n",
       "       'elliptical', 'elliptical', 'elliptical', 'elliptical',\n",
       "       'elliptical', 'elliptical', 'elliptical', 'elliptical',\n",
       "       'elliptical', 'elliptical', 'elliptical', 'elliptical',\n",
       "       'elliptical', 'elliptical', 'elliptical', 'elliptical',\n",
       "       'elliptical', 'elliptical', 'elliptical', 'elliptical',\n",
       "       'elliptical', 'elliptical', 'elliptical', 'elliptical',\n",
       "       'elliptical', 'elliptical', 'elliptical', 'elliptical',\n",
       "       'elliptical', 'elliptical', 'elliptical', 'elliptical',\n",
       "       'elliptical', 'elliptical', 'elliptical', 'elliptical',\n",
       "       'elliptical', 'elliptical', 'elliptical', 'elliptical',\n",
       "       'elliptical', 'elliptical', 'elliptical', 'elliptical',\n",
       "       'elliptical', 'elliptical', 'elliptical', 'elliptical',\n",
       "       'elliptical', 'elliptical', 'elliptical', 'elliptical',\n",
       "       'elliptical', 'elliptical', 'elliptical', 'elliptical',\n",
       "       'elliptical', 'elliptical', 'elliptical', 'elliptical',\n",
       "       'elliptical', 'elliptical', 'elliptical', 'elliptical',\n",
       "       'elliptical', 'elliptical', 'elliptical', 'elliptical',\n",
       "       'elliptical', 'elliptical', 'elliptical', 'elliptical',\n",
       "       'elliptical', 'elliptical', 'elliptical', 'elliptical',\n",
       "       'elliptical', 'elliptical', 'elliptical', 'elliptical',\n",
       "       'elliptical', 'elliptical', 'elliptical', 'elliptical',\n",
       "       'elliptical', 'elliptical', 'elliptical', 'elliptical',\n",
       "       'elliptical', 'elliptical', 'elliptical', 'elliptical',\n",
       "       'elliptical', 'elliptical', 'elliptical', 'elliptical',\n",
       "       'elliptical', 'elliptical', 'elliptical', 'elliptical',\n",
       "       'elliptical', 'elliptical', 'elliptical', 'elliptical',\n",
       "       'elliptical', 'elliptical', 'elliptical', 'elliptical',\n",
       "       'elliptical', 'elliptical', 'elliptical', 'elliptical',\n",
       "       'elliptical', 'elliptical', 'elliptical', 'elliptical',\n",
       "       'elliptical', 'elliptical', 'elliptical', 'elliptical',\n",
       "       'elliptical', 'elliptical', 'elliptical', 'elliptical',\n",
       "       'elliptical', 'elliptical', 'elliptical', 'elliptical',\n",
       "       'elliptical', 'elliptical', 'elliptical', 'elliptical',\n",
       "       'elliptical', 'elliptical', 'elliptical', 'elliptical',\n",
       "       'elliptical', 'elliptical', 'elliptical', 'elliptical',\n",
       "       'elliptical', 'elliptical', 'elliptical', 'elliptical',\n",
       "       'elliptical', 'elliptical', 'elliptical', 'elliptical',\n",
       "       'elliptical', 'elliptical', 'elliptical', 'elliptical',\n",
       "       'elliptical', 'elliptical', 'elliptical', 'elliptical',\n",
       "       'elliptical', 'elliptical', 'elliptical', 'elliptical',\n",
       "       'elliptical', 'spiral', 'spiral', 'spiral', 'spiral', 'spiral',\n",
       "       'spiral', 'spiral', 'spiral', 'spiral', 'spiral', 'spiral',\n",
       "       'spiral', 'spiral', 'spiral', 'spiral', 'spiral', 'spiral',\n",
       "       'spiral', 'spiral', 'spiral', 'spiral', 'spiral', 'spiral',\n",
       "       'spiral', 'spiral', 'spiral', 'spiral', 'spiral', 'spiral',\n",
       "       'spiral', 'spiral', 'spiral', 'spiral', 'spiral', 'spiral',\n",
       "       'spiral', 'spiral', 'spiral', 'spiral', 'spiral', 'spiral',\n",
       "       'spiral', 'spiral', 'spiral', 'spiral', 'spiral', 'spiral',\n",
       "       'spiral', 'spiral', 'spiral', 'spiral', 'spiral', 'spiral',\n",
       "       'spiral', 'spiral', 'spiral', 'spiral', 'spiral', 'spiral',\n",
       "       'spiral', 'spiral', 'spiral', 'spiral', 'spiral', 'spiral',\n",
       "       'spiral', 'spiral', 'spiral', 'spiral', 'spiral', 'spiral',\n",
       "       'spiral', 'spiral', 'spiral', 'spiral', 'spiral', 'spiral',\n",
       "       'spiral', 'spiral', 'spiral', 'spiral', 'spiral', 'spiral',\n",
       "       'spiral', 'spiral', 'spiral', 'spiral', 'spiral', 'spiral',\n",
       "       'spiral', 'spiral', 'spiral', 'spiral', 'spiral', 'spiral',\n",
       "       'spiral', 'spiral', 'spiral', 'spiral', 'spiral', 'spiral',\n",
       "       'spiral', 'spiral', 'spiral', 'spiral', 'spiral', 'spiral',\n",
       "       'spiral', 'spiral', 'spiral', 'spiral', 'spiral', 'spiral',\n",
       "       'spiral', 'spiral', 'spiral', 'spiral', 'spiral', 'spiral',\n",
       "       'spiral', 'spiral', 'spiral', 'spiral', 'spiral', 'spiral',\n",
       "       'spiral', 'spiral', 'spiral', 'spiral', 'spiral', 'spiral',\n",
       "       'spiral', 'spiral', 'spiral', 'spiral', 'spiral', 'spiral',\n",
       "       'spiral', 'spiral', 'spiral', 'spiral', 'spiral', 'spiral',\n",
       "       'spiral', 'spiral', 'spiral', 'spiral', 'spiral', 'spiral',\n",
       "       'spiral', 'spiral', 'spiral', 'spiral', 'spiral', 'spiral',\n",
       "       'spiral', 'spiral', 'spiral', 'spiral', 'spiral', 'spiral',\n",
       "       'spiral', 'spiral', 'spiral', 'spiral', 'spiral', 'spiral',\n",
       "       'spiral', 'spiral', 'spiral', 'spiral', 'spiral', 'spiral',\n",
       "       'spiral', 'spiral', 'spiral', 'spiral', 'spiral', 'spiral',\n",
       "       'spiral', 'spiral', 'spiral', 'spiral', 'spiral', 'spiral',\n",
       "       'spiral', 'spiral', 'spiral', 'spiral', 'spiral', 'spiral',\n",
       "       'spiral', 'spiral', 'spiral', 'spiral', 'spiral', 'spiral',\n",
       "       'spiral', 'spiral', 'spiral', 'spiral', 'spiral', 'spiral',\n",
       "       'spiral', 'spiral', 'spiral', 'spiral', 'spiral', 'spiral',\n",
       "       'spiral', 'spiral', 'spiral', 'spiral', 'spiral', 'spiral',\n",
       "       'spiral', 'spiral', 'spiral', 'spiral', 'spiral', 'spiral',\n",
       "       'spiral', 'spiral', 'spiral', 'spiral', 'spiral', 'spiral',\n",
       "       'spiral', 'spiral', 'spiral', 'spiral', 'spiral', 'spiral',\n",
       "       'spiral', 'spiral', 'spiral', 'spiral', 'spiral', 'spiral',\n",
       "       'spiral', 'spiral', 'spiral', 'spiral', 'spiral', 'spiral',\n",
       "       'spiral', 'spiral', 'spiral', 'spiral', 'spiral', 'spiral',\n",
       "       'spiral', 'spiral', 'spiral', 'spiral', 'spiral', 'spiral',\n",
       "       'spiral', 'spiral', 'spiral'], dtype='<U20')"
      ]
     },
     "execution_count": 11,
     "metadata": {},
     "output_type": "execute_result"
    }
   ],
   "source": [
    "    features = data[sorted(set(data.dtype.names)-set(['class']))]\n",
    "    targets = data['class']"
   ]
  },
  {
   "cell_type": "code",
   "execution_count": 37,
   "id": "4bbe59c1-4292-4f06-9c0d-f1253f2c23a9",
   "metadata": {},
   "outputs": [
    {
     "name": "stdout",
     "output_type": "stream",
     "text": [
      "Number data galaxies: 780\n",
      "Train fraction: 0.7\n",
      "Number of galaxies in training set: 546\n",
      "Number of galaxies in testing set: 234\n"
     ]
    }
   ],
   "source": [
    "import numpy as np\n",
    "data = np.load('galaxy_catalogue.npy')\n",
    "\n",
    "def splitdata_train_test(data, fraction_training):\n",
    "  # complete this function\n",
    "    np.random.seed(0)\n",
    "    np.random.shuffle(data)\n",
    "    split_index = int(fraction_training*len(data))\n",
    "    return data[:split_index], data[split_index:]\n",
    "    \n",
    "if __name__ == \"__main__\":\n",
    "    data = np.load('galaxy_catalogue.npy')\n",
    "\n",
    "    # set the fraction of data which should be in the training set\n",
    "    fraction_training = 0.7\n",
    "\n",
    "    # split the data using your function\n",
    "    training, testing = splitdata_train_test(data, fraction_training)\n",
    "\n",
    "    # print the key values\n",
    "    print('Number data galaxies:', len(data))\n",
    "    print('Train fraction:', fraction_training)\n",
    "    print('Number of galaxies in training set:', len(training))\n",
    "    print('Number of galaxies in testing set:', len(testing))\n"
   ]
  },
  {
   "cell_type": "markdown",
   "id": "a7de690b-13df-427c-96da-dab363f2df4b",
   "metadata": {},
   "source": [
    "### Generate features and targets"
   ]
  },
  {
   "cell_type": "markdown",
   "id": "bcbeae1b-bad5-47ab-a058-69de351433c9",
   "metadata": {},
   "source": [
    "![title](pic1.png)"
   ]
  },
  {
   "cell_type": "code",
   "execution_count": 39,
   "id": "5dfefc2b-26e8-4631-8fec-7d2827ac9d8b",
   "metadata": {},
   "outputs": [
    {
     "name": "stdout",
     "output_type": "stream",
     "text": [
      "Features shape: (780, 13)\n",
      "Targets shape: (780,)\n"
     ]
    }
   ],
   "source": [
    "import numpy as np\n",
    "\n",
    "def generate_features_targets(data):\n",
    "  # complete the function by calculating the concentrations\n",
    "\n",
    "    targets = data['class']\n",
    "\n",
    "    features = np.empty(shape=(len(data), 13))\n",
    "    features[:, 0] = data['u-g']\n",
    "    features[:, 1] = data['g-r']\n",
    "    features[:, 2] = data['r-i']\n",
    "    features[:, 3] = data['i-z']\n",
    "    features[:, 4] = data['ecc']\n",
    "    features[:, 5] = data['m4_u']\n",
    "    features[:, 6] = data['m4_g']\n",
    "    features[:, 7] = data['m4_r']\n",
    "    features[:, 8] = data['m4_i']\n",
    "    features[:, 9] = data['m4_z']\n",
    "\n",
    "    # fill the remaining 3 columns with concentrations in the u, r and z filters\n",
    "    # concentration in u filter\n",
    "    features[:, 10] = data['petroR50_u']/data['petroR90_u']\n",
    "    # concentration in r filter\n",
    "    features[:, 11] = data['petroR50_r']/data['petroR90_r']\n",
    "    # concentration in z filter\n",
    "    features[:, 12] = data['petroR50_z']/data['petroR90_z']\n",
    "\n",
    "    return features, targets\n",
    "\n",
    "\n",
    "if __name__ == \"__main__\":\n",
    "    data = np.load('galaxy_catalogue.npy')\n",
    "\n",
    "    features, targets = generate_features_targets(data)\n",
    "\n",
    "    # Print the shape of each array to check the arrays are the correct dimensions. \n",
    "    print(\"Features shape:\", features.shape)\n",
    "    print(\"Targets shape:\", targets.shape)\n"
   ]
  },
  {
   "cell_type": "markdown",
   "id": "8b6a2a4a-dd3b-4296-845f-f2c02f5e42b2",
   "metadata": {},
   "source": [
    "### Train the decision tree classifier"
   ]
  },
  {
   "cell_type": "markdown",
   "id": "22657027-acb8-442e-b6e5-1c9436d63528",
   "metadata": {},
   "source": [
    "It is time to use the functions we wrote to split the data and generate the features, and then train a decision tree classifier.\n",
    "\n",
    "Your task is complete the dtc_predict_actual function by following the Python comments. The purpose of the function is to perform a held out validation and return the predicted and actual classes for later comparison.\n",
    "\n",
    "The function takes a single argument which is the full data set and should return two NumPy arrays containing the predicted and actual classes respectively.\n",
    "\n",
    "You will also need to copy your solutions from the previous two questions into the spaces allocated."
   ]
  },
  {
   "cell_type": "code",
   "execution_count": 42,
   "id": "23d804b1-41f8-41db-a623-0c577bdcc708",
   "metadata": {},
   "outputs": [
    {
     "name": "stdout",
     "output_type": "stream",
     "text": [
      "Some initial results...\n",
      "   predicted,  actual\n",
      "0. merger, merger\n",
      "1. merger, merger\n",
      "2. elliptical, elliptical\n",
      "3. elliptical, elliptical\n",
      "4. spiral, spiral\n",
      "5. merger, spiral\n",
      "6. merger, spiral\n",
      "7. merger, spiral\n",
      "8. merger, merger\n",
      "9. merger, merger\n"
     ]
    }
   ],
   "source": [
    "import numpy as np\n",
    "from sklearn.tree import DecisionTreeClassifier\n",
    "\n",
    "\n",
    "# copy your splitdata_train_test function here\n",
    "def splitdata_train_test(data, fraction_training):\n",
    "  # complete this function\n",
    "    np.random.seed(0)\n",
    "    np.random.shuffle(data)\n",
    "    split_index = int(fraction_training*len(data))\n",
    "    return data[:split_index], data[split_index:]\n",
    "\n",
    "# copy your generate_features_targets function here\n",
    "def generate_features_targets(data):\n",
    "  # complete the function by calculating the concentrations\n",
    "\n",
    "    targets = data['class']\n",
    "\n",
    "    features = np.empty(shape=(len(data), 13))\n",
    "    features[:, 0] = data['u-g']\n",
    "    features[:, 1] = data['g-r']\n",
    "    features[:, 2] = data['r-i']\n",
    "    features[:, 3] = data['i-z']\n",
    "    features[:, 4] = data['ecc']\n",
    "    features[:, 5] = data['m4_u']\n",
    "    features[:, 6] = data['m4_g']\n",
    "    features[:, 7] = data['m4_r']\n",
    "    features[:, 8] = data['m4_i']\n",
    "    features[:, 9] = data['m4_z']\n",
    "\n",
    "    # fill the remaining 3 columns with concentrations in the u, r and z filters\n",
    "    # concentration in u filter\n",
    "    features[:, 10] = data['petroR50_u']/data['petroR90_u']\n",
    "    # concentration in r filter\n",
    "    features[:, 11] = data['petroR50_r']/data['petroR90_r']\n",
    "    # concentration in z filter\n",
    "    features[:, 12] = data['petroR50_z']/data['petroR90_z']\n",
    "\n",
    "    return features, targets\n",
    "\n",
    "\n",
    "# complete this function by splitting the data set and training a decision tree classifier\n",
    "def dtc_predict_actual(data):\n",
    "  # split the data into training and testing sets using a training fraction of 0.7\n",
    "    training, testing = splitdata_train_test(data, 0.7)\n",
    "    \n",
    "  # generate the feature and targets for the training and test sets\n",
    "  # i.e. train_features, train_targets, test_features, test_targets\n",
    "    train_features, train_targets = generate_features_targets(training)\n",
    "    test_features, test_targets = generate_features_targets(testing)\n",
    "    \n",
    "  # instantiate a decision tree classifier\n",
    "    dtr = DecisionTreeClassifier()\n",
    "\n",
    "  # train the classifier with the train_features and train_targets\n",
    "    dtr.fit(train_features, train_targets)\n",
    "\n",
    "  # get predictions for the test_features\n",
    "    predictions = dtr.predict(test_features)\n",
    "\n",
    "  # return the predictions and the test_targets\n",
    "    return predictions, test_targets\n",
    "\n",
    "\n",
    "if __name__ == '__main__':\n",
    "    data = np.load('galaxy_catalogue.npy')\n",
    "    \n",
    "    predicted_class, actual_class = dtc_predict_actual(data)\n",
    "\n",
    "    # Print some of the initial results\n",
    "    print(\"Some initial results...\\n   predicted,  actual\")\n",
    "    for i in range(10):\n",
    "        print(\"{}. {}, {}\".format(i, predicted_class[i], actual_class[i]))\n",
    " "
   ]
  },
  {
   "cell_type": "markdown",
   "id": "390918bc-4a2e-4412-96c4-2a9b3788d823",
   "metadata": {},
   "source": [
    "### Accuracy"
   ]
  },
  {
   "cell_type": "markdown",
   "id": "92828963-cb03-4e29-807f-b7887956b86d",
   "metadata": {},
   "source": [
    "![title](pic2.png)"
   ]
  },
  {
   "cell_type": "markdown",
   "id": "88a3c16e-d987-49aa-b632-221839923342",
   "metadata": {},
   "source": [
    "In addition to an overall accuracy score, we'd also like to know where our model is going wrong. For example, were the incorrectly classified mergers mis-classified as spirals or ellipticals? To answer this type of question we use a confusion matrix. An example confusion matrix for our problem is shown below:\n",
    "\n",
    "Confusion Matrix\n",
    "A Confusion Matrix for ellipticals, mergers, and spirals. Click to enlarge.\n",
    "The x axis represents the predicted classes and the y axis represents the correct classes. The value in each cell is the number of examples with those predicted and actual classes. Correctly classified objects are along the diagonal of the matrix.\n",
    "\n",
    "So of the 260 actual spirals (correct class) in the data set, 198 are correctly predicted as spirals, 5 are incorrectly predicted as ellipticals and 57 are incorrectly predicted as mergers.\n",
    "\n",
    "The sum along each row or column can be used to get the totals of true and predicted classes. So for example, by summing each of the rows we can confirm that there are 260 mergers, 260 spirals and 260 ellipticals in the data set."
   ]
  },
  {
   "cell_type": "markdown",
   "id": "8371fc19-4118-4298-8eba-2edd933c9427",
   "metadata": {},
   "source": [
    "Your task is to complete the calculate_accuracy function. The function should calculate the accuracy: the fraction of predictions that are correct (i.e. the model score):\n",
    "\n",
    "accuracy = correct predictions / predictions\n",
    " \n",
    "The function takes two arguments;\n",
    "\n",
    "predicted: an array of the predicted class for each galaxy.\n",
    "actual: an array of the actual class for each galaxy.\n",
    "The return value should be a float (between 0 and 1)."
   ]
  },
  {
   "cell_type": "code",
   "execution_count": 44,
   "id": "3e8aebc8-3d3f-4f39-a0fe-937c343985ba",
   "metadata": {},
   "outputs": [],
   "source": [
    "predicted_class, actual_class = dtc_predict_actual(data)"
   ]
  },
  {
   "cell_type": "code",
   "execution_count": 45,
   "id": "aaccb635-3cff-4826-a93c-57a40b03dec0",
   "metadata": {
    "collapsed": true,
    "jupyter": {
     "outputs_hidden": true
    },
    "tags": []
   },
   "outputs": [
    {
     "data": {
      "text/plain": [
       "array(['spiral', 'spiral', 'merger', 'merger', 'spiral', 'elliptical',\n",
       "       'merger', 'merger', 'spiral', 'elliptical', 'spiral', 'merger',\n",
       "       'merger', 'elliptical', 'elliptical', 'elliptical', 'merger',\n",
       "       'spiral', 'spiral', 'spiral', 'merger', 'spiral', 'elliptical',\n",
       "       'merger', 'spiral', 'merger', 'spiral', 'elliptical', 'elliptical',\n",
       "       'spiral', 'elliptical', 'merger', 'merger', 'merger', 'spiral',\n",
       "       'merger', 'elliptical', 'spiral', 'spiral', 'elliptical', 'merger',\n",
       "       'elliptical', 'merger', 'merger', 'spiral', 'merger', 'merger',\n",
       "       'elliptical', 'merger', 'elliptical', 'elliptical', 'spiral',\n",
       "       'merger', 'spiral', 'elliptical', 'spiral', 'elliptical', 'merger',\n",
       "       'elliptical', 'spiral', 'merger', 'merger', 'spiral', 'elliptical',\n",
       "       'elliptical', 'merger', 'spiral', 'elliptical', 'elliptical',\n",
       "       'merger', 'merger', 'spiral', 'elliptical', 'spiral', 'spiral',\n",
       "       'merger', 'elliptical', 'spiral', 'merger', 'spiral', 'elliptical',\n",
       "       'spiral', 'spiral', 'spiral', 'merger', 'elliptical', 'elliptical',\n",
       "       'elliptical', 'spiral', 'elliptical', 'elliptical', 'merger',\n",
       "       'merger', 'merger', 'spiral', 'merger', 'elliptical', 'merger',\n",
       "       'spiral', 'spiral', 'elliptical', 'merger', 'elliptical', 'spiral',\n",
       "       'spiral', 'merger', 'spiral', 'merger', 'merger', 'merger',\n",
       "       'elliptical', 'spiral', 'elliptical', 'spiral', 'spiral', 'merger',\n",
       "       'merger', 'spiral', 'spiral', 'spiral', 'spiral', 'spiral',\n",
       "       'merger', 'elliptical', 'merger', 'spiral', 'elliptical', 'spiral',\n",
       "       'merger', 'elliptical', 'merger', 'elliptical', 'merger', 'merger',\n",
       "       'spiral', 'spiral', 'merger', 'elliptical', 'spiral', 'elliptical',\n",
       "       'elliptical', 'elliptical', 'spiral', 'merger', 'merger', 'spiral',\n",
       "       'spiral', 'spiral', 'spiral', 'elliptical', 'spiral', 'merger',\n",
       "       'merger', 'spiral', 'elliptical', 'elliptical', 'spiral',\n",
       "       'elliptical', 'spiral', 'elliptical', 'spiral', 'elliptical',\n",
       "       'merger', 'elliptical', 'elliptical', 'merger', 'spiral', 'merger',\n",
       "       'elliptical', 'merger', 'merger', 'merger', 'elliptical', 'spiral',\n",
       "       'elliptical', 'elliptical', 'merger', 'elliptical', 'elliptical',\n",
       "       'spiral', 'merger', 'spiral', 'spiral', 'merger', 'spiral',\n",
       "       'spiral', 'merger', 'merger', 'spiral', 'spiral', 'merger',\n",
       "       'elliptical', 'spiral', 'elliptical', 'spiral', 'merger', 'merger',\n",
       "       'elliptical', 'merger', 'spiral', 'spiral', 'spiral', 'spiral',\n",
       "       'merger', 'merger', 'elliptical', 'merger', 'merger', 'spiral',\n",
       "       'elliptical', 'elliptical', 'spiral', 'spiral', 'spiral', 'merger',\n",
       "       'spiral', 'elliptical', 'merger', 'merger', 'merger', 'elliptical',\n",
       "       'elliptical', 'spiral', 'merger', 'spiral', 'elliptical', 'merger',\n",
       "       'merger', 'merger', 'elliptical', 'elliptical', 'elliptical',\n",
       "       'spiral', 'elliptical'], dtype='<U20')"
      ]
     },
     "execution_count": 45,
     "metadata": {},
     "output_type": "execute_result"
    }
   ],
   "source": [
    "predicted_class"
   ]
  },
  {
   "cell_type": "code",
   "execution_count": 54,
   "id": "2ea4593e-967f-4aba-9a6a-de75fdb9e49c",
   "metadata": {},
   "outputs": [
    {
     "name": "stdout",
     "output_type": "stream",
     "text": [
      "Our accuracy score: 0.7871794871794872\n",
      "Confusion matrix, without normalization\n",
      "[[200  53   7]\n",
      " [ 51 183  26]\n",
      " [  4  25 231]]\n"
     ]
    },
    {
     "data": {
      "image/png": "[encoded data removed]",
      "text/plain": [
       "<Figure size 432x288 with 2 Axes>"
      ]
     },
     "metadata": {
      "needs_background": "light"
     },
     "output_type": "display_data"
    }
   ],
   "source": [
    "import numpy as np\n",
    "from matplotlib import pyplot as plt\n",
    "from sklearn.metrics import confusion_matrix\n",
    "from sklearn.model_selection import cross_val_predict\n",
    "from sklearn.tree import DecisionTreeClassifier\n",
    "from support_functions import plot_confusion_matrix, generate_features_targets\n",
    "\n",
    "\n",
    "# Implement the following function\n",
    "def calculate_accuracy(predicted, actual):\n",
    "    correct_predictions = 0\n",
    "    for i in range(0, len(predicted)):\n",
    "        if predicted[i]==actual[i]:\n",
    "            correct_predictions +=1\n",
    "    return correct_predictions/len(predicted)\n",
    "\n",
    "\n",
    "#def calculate_accuracy(predicted_classes, actual_classes):\n",
    "#  return sum(predicted_classes == actual_classes)/len(actual_classes)\n",
    "\n",
    "if __name__ == \"__main__\":\n",
    "  data = np.load('galaxy_catalogue.npy')\n",
    "\n",
    "  # split the data\n",
    "  features, targets = generate_features_targets(data)\n",
    "\n",
    "  # train the model to get predicted and actual classes\n",
    "  dtc = DecisionTreeClassifier()\n",
    "  predicted = cross_val_predict(dtc, features, targets, cv=10)\n",
    "\n",
    "  # calculate the model score using your function\n",
    "  model_score = calculate_accuracy(predicted, targets)\n",
    "  print(\"Our accuracy score:\", model_score)\n",
    "\n",
    "  # calculate the models confusion matrix using sklearns confusion_matrix function\n",
    "  class_labels = list(set(targets))\n",
    "  model_cm = confusion_matrix(y_true=targets, y_pred=predicted, labels=class_labels)\n",
    "\n",
    "  # Plot the confusion matrix using the provided functions.\n",
    "  plt.figure()\n",
    "  plot_confusion_matrix(model_cm, classes=class_labels, normalize=False)\n",
    "  plt.show()\n"
   ]
  },
  {
   "cell_type": "markdown",
   "id": "6058986f-6756-4c21-bb95-ad32c093b592",
   "metadata": {},
   "source": [
    "## Random forest classifier"
   ]
  },
  {
   "cell_type": "markdown",
   "id": "e1925f85-fbdc-4ed9-8099-459021da2ccd",
   "metadata": {},
   "source": [
    "So far we have used a single decision tree model. However, we can improve the accuracy of our classification by using a collection (or ensemble) of trees as known as a random forest.\n",
    "\n",
    "A random forest is a collection of decision trees that have each been independently trained using different subsets of the training data and/or different combinations of features in those subsets.\n",
    "\n",
    "When making a prediction, every tree in the forest gives its own prediction and the most common classification is taken as the overall forest prediction (in regression the mean prediction is used)."
   ]
  },
  {
   "cell_type": "markdown",
   "id": "53c41769-7897-45f2-8af4-71db04ecab6e",
   "metadata": {},
   "source": [
    "Random forests help to mitigate overfitting in decision trees.\n",
    "\n",
    "**Training data** is spread across decision trees. The subsets are created by taking random samples with replacement. This means that a given data point can be used in several subsets. (This is different from the subsets used in cross validation where each data point belongs to one subset).\n",
    "\n",
    "**Individual trees** are trained with different subsets of features. So in our current problem, one tree might be trained using eccentricity and another using concentration and the 4th adaptive moment. By using different combinations of input features you create expert trees that are can better identify classes by a given feature.\n",
    "\n",
    "The sklearn random forest only uses the first form of sampling."
   ]
  },
  {
   "cell_type": "markdown",
   "id": "4d0281a9-e15c-41a2-8e4f-17151f6d3709",
   "metadata": {},
   "source": [
    "Your task here is to complete the rf_predict_actual function. It returns the predicted and actual classes for our galaxies using a random forest 10-fold with cross validation.\n",
    "\n",
    "You should use the RandomForestClassifier class from the sklearn.ensemble module. It can be instantiated with:\n",
    "\n",
    "rfc = RandomForestClassifier(n_estimators=n_estimators)\n",
    "n_estimators is the the number of decision trees in the forest.\n",
    "\n",
    "rf_predict_actual takes two arguments: the data used throughout this activity and the number of estimators (n_estimators) to be used in the random forest.\n",
    "\n",
    "The function should return two NumPy arrays containing the predicted and actual classes respectively.\n",
    "\n",
    "You can copy and paste the functions from previous questions. However, we have provided the generate_features_targets function in the support library.\n",
    "\n",
    "Use the cross_val_predict function from the model_selection module as we did in the last question.\n",
    "\n",
    "You can read its documentation here. This approach allows us to get a prediction for every galaxy in the data set through cross validation. It also means that we don't need to manage the training and test sets."
   ]
  },
  {
   "cell_type": "code",
   "execution_count": 63,
   "id": "15c936d7-acdc-43aa-b857-00f02ddcdd5c",
   "metadata": {},
   "outputs": [
    {
     "name": "stdout",
     "output_type": "stream",
     "text": [
      "Accuracy score: 0.8602564102564103\n",
      "Confusion matrix, without normalization\n",
      "[[221  37   2]\n",
      " [ 39 204  17]\n",
      " [  1  13 246]]\n"
     ]
    },
    {
     "data": {
      "image/png": "[encoded data removed]",
      "text/plain": [
       "<Figure size 432x288 with 2 Axes>"
      ]
     },
     "metadata": {
      "needs_background": "light"
     },
     "output_type": "display_data"
    }
   ],
   "source": [
    "import numpy as np\n",
    "from matplotlib import pyplot as plt\n",
    "from sklearn.metrics import confusion_matrix\n",
    "from sklearn.model_selection import cross_val_predict\n",
    "from sklearn.ensemble import RandomForestClassifier\n",
    "#from support_functions import generate_features_targets, plot_confusion_matrix, calculate_accuracy\n",
    "\n",
    "\n",
    "# complete this function to get predictions from a random forest classifier\n",
    "def rf_predict_actual(data, n_estimators):\n",
    "    # generate the features and targets\n",
    "    features, targets = generate_features_targets(data)\n",
    "\n",
    "    # instantiate a random forest classifier using n estimators\n",
    "    rfc = RandomForestClassifier(n_estimators=n_estimators)\n",
    "    \n",
    "    # get predictions using 10-fold cross validation with cross_val_predict\n",
    "    predictions = cross_val_predict(rfc,X=features,y=targets,  cv= 10)\n",
    "\n",
    "    # return the predictions and their actual classes\n",
    "    return predictions, targets\n",
    "\n",
    "if __name__ == \"__main__\":\n",
    "    data = np.load('galaxy_catalogue.npy')\n",
    "\n",
    "    # get the predicted and actual classes\n",
    "    number_estimators = 50              # Number of trees\n",
    "    predicted, actual = rf_predict_actual(data, number_estimators)\n",
    "\n",
    "    # calculate the model score using your function\n",
    "    accuracy = calculate_accuracy(predicted, actual)\n",
    "    print(\"Accuracy score:\", accuracy)\n",
    "\n",
    "    # calculate the models confusion matrix using sklearns confusion_matrix function\n",
    "    class_labels = list(set(actual))\n",
    "    model_cm = confusion_matrix(y_true=actual, y_pred=predicted, labels=class_labels)\n",
    "\n",
    "    # plot the confusion matrix using the provided functions.\n",
    "    plt.figure()\n",
    "    plot_confusion_matrix(model_cm, classes=class_labels, normalize=False)\n",
    "    plt.show()\n"
   ]
  },
  {
   "cell_type": "markdown",
   "id": "3844e268-be7c-4a1a-9a02-f40a95ec9822",
   "metadata": {},
   "source": [
    "Did the random forest improve the accuracy of the model? The answer is yes – we see a substantial increase in accuracy. When we look at the 10-fold cross validation results, we see that the random forest systematically out performs a single decision tree"
   ]
  },
  {
   "cell_type": "code",
   "execution_count": null,
   "id": "0cb8f494-83af-4ac7-ab97-d0628f05e77e",
   "metadata": {},
   "outputs": [],
   "source": []
  }
 ],
 "metadata": {
  "kernelspec": {
   "display_name": "Python 3 (ipykernel)",
   "language": "python",
   "name": "python3"
  },
  "language_info": {
   "codemirror_mode": {
    "name": "ipython",
    "version": 3
   },
   "file_extension": ".py",
   "mimetype": "text/x-python",
   "name": "python",
   "nbconvert_exporter": "python",
   "pygments_lexer": "ipython3",
   "version": "3.8.11"
  }
 },
 "nbformat": 4,
 "nbformat_minor": 5
}
