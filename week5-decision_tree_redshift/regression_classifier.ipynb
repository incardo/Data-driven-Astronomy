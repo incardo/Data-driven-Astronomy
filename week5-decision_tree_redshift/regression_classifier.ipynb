{
 "cells": [
  {
   "cell_type": "markdown",
   "id": "33df1641-c5e4-45ce-84ab-db6b2d29eec0",
   "metadata": {},
   "source": [
    "# Week 5: Building a regression classifier"
   ]
  },
  {
   "cell_type": "markdown",
   "id": "4692f812-6788-4b90-8ce4-b08f2652fa48",
   "metadata": {},
   "source": [
    "In this activity, we're going to use decision trees to determine the redshifts of galaxies from their photometric colours. We'll use galaxies where accurate spectroscopic redshifts have been calculated as our gold standard. We will learn how to assess the accuracy of the decision trees predictions and have a look at validation of our model.\n",
    "\n",
    "We will also have a quick look at how this problem might be approached without using machine learning. This will highlight some of the limitations of the classical approach and demonstrate why a machine learning approach is ideal for this type of problem.\n",
    "\n",
    "If you want to run your code offline, you can download the full NumPy dataset for this activity here.\n",
    "\n",
    "This activity is based on the scikit-learn example on Photometric Redshifts of Galaxies."
   ]
  },
  {
   "cell_type": "markdown",
   "id": "96597169-4dc1-4797-b3fa-ef0505ec600d",
   "metadata": {},
   "source": [
    "Write a get_features_targets function that splits the training data into input features and their corresponding targets. In our case, the inputs are the 4 colour indices and our targets are the corresponding redshifts.\n",
    "\n",
    "Your function should return a tuple of:\n",
    "\n",
    "features: a NumPy array of dimensions m ⨉ 4, where m is the number of galaxies;\n",
    "targets: a 1D NumPy array of length m, containing the redshift for each galaxy.\n",
    "The data argument will be the structured array described on the previous slide. The u flux magnitudes and redshifts can be accessed as a column with data['u'] and data['redshift'].\n",
    "\n",
    "The four features are the colours u - g, g - r, r - i and i - z. To calculate the first column of features, subtract the u and g columns, like this:\n",
    "\n",
    "\n",
    "print(data['u'] - data['g'])\n",
    "import numpy as np\n",
    "data = np.load('sdss_galaxy_colors.npy')\n",
    "print(data['u'] - data['g'])\n",
    "The features for the first 2 galaxies in the example data should be:\n",
    "\n",
    "[[ 0.31476  0.0571   0.28991  0.07192]\n",
    " [ 1.2002   0.82026  0.45294  0.24665]]\n",
    "And the first 2 targets should be:\n",
    "[ 0.539301   0.1645703] \n"
   ]
  },
  {
   "cell_type": "code",
   "execution_count": 2,
   "id": "0e24d6c2-3719-4d01-a249-716a8acff160",
   "metadata": {},
   "outputs": [
    {
     "name": "stdout",
     "output_type": "stream",
     "text": [
      "(19.84132, 19.52656, 19.46946, 19.17955, 19.10763, b'QSO', 0.539301, 6.543622e-05)\n",
      "[0.31476 1.2002  1.65941 ... 1.72629 0.23287 0.19067]\n"
     ]
    }
   ],
   "source": [
    "import numpy as np\n",
    "data = np.load('sdss_galaxy_colors.npy')\n",
    "print(data[0])\n",
    "\n",
    "print(data['u'] - data['g'])"
   ]
  },
  {
   "cell_type": "code",
   "execution_count": 5,
   "id": "37c2d56e-33ac-4566-895e-b56881fe1947",
   "metadata": {},
   "outputs": [
    {
     "data": {
      "text/plain": [
       "array([(19.84132, 19.52656, 19.46946, 19.17955, 19.10763, b'QSO', 0.539301  , 6.543622e-05),\n",
       "       (19.86318, 18.66298, 17.84272, 17.38978, 17.14313, b'GALAXY', 0.1645703 , 1.186625e-05),\n",
       "       (19.97362, 18.31421, 17.47922, 17.0744 , 16.76174, b'GALAXY', 0.04190006, 2.183788e-05),\n",
       "       ...,\n",
       "       (19.82667, 18.10038, 17.16133, 16.5796 , 16.19755, b'GALAXY', 0.0784592 , 2.159406e-05),\n",
       "       (19.98672, 19.75385, 19.5713 , 19.27739, 19.25895, b'QSO', 1.567295  , 4.505933e-04),\n",
       "       (18.00024, 17.80957, 17.77302, 17.72663, 17.7264 , b'QSO', 0.4749449 , 6.203324e-05)],\n",
       "      dtype=[('u', '<f8'), ('g', '<f8'), ('r', '<f8'), ('i', '<f8'), ('z', '<f8'), ('spec_class', 'S6'), ('redshift', '<f8'), ('redshift_err', '<f8')])"
      ]
     },
     "execution_count": 5,
     "metadata": {},
     "output_type": "execute_result"
    }
   ],
   "source": [
    "data"
   ]
  },
  {
   "cell_type": "code",
   "execution_count": 7,
   "id": "cd791fa9-1ff3-4725-8641-3a6b95ac62c3",
   "metadata": {},
   "outputs": [
    {
     "data": {
      "text/plain": [
       "('u', 'g', 'r', 'i', 'z', 'spec_class', 'redshift', 'redshift_err')"
      ]
     },
     "execution_count": 7,
     "metadata": {},
     "output_type": "execute_result"
    }
   ],
   "source": [
    "data.dtype.names\n"
   ]
  },
  {
   "cell_type": "code",
   "execution_count": 11,
   "id": "50c99120-f805-4e37-8278-b8bbcc9b8283",
   "metadata": {},
   "outputs": [
    {
     "name": "stdout",
     "output_type": "stream",
     "text": [
      "[[0.31476 0.0571  0.28991 0.07192]\n",
      " [1.2002  0.82026 0.45294 0.24665]]\n",
      "[0.539301  0.1645703]\n"
     ]
    }
   ],
   "source": [
    "def get_features_targets(data):\n",
    "    data = np.load('sdss_galaxy_colors.npy')\n",
    "\n",
    "    features = np.zeros((data.shape[0], 4))\n",
    "    features[:, 0] = data['u'] - data['g']\n",
    "    features[:, 1] = data['g'] - data['r']\n",
    "    features[:, 2] = data['r'] - data['i']\n",
    "    features[:, 3] = data['i'] - data['z']\n",
    "    \n",
    "    targets =  data['redshift'] \n",
    "    \n",
    "    return features, targets\n",
    "\n",
    "\n",
    "if __name__ == \"__main__\":\n",
    "  # load the data\n",
    "  data = np.load('sdss_galaxy_colors.npy')\n",
    "    \n",
    "  # call our function \n",
    "  features, targets = get_features_targets(data)\n",
    "    \n",
    "  # print the shape of the returned arrays\n",
    "  print(features[:2])\n",
    "  print(targets[:2])\n"
   ]
  },
  {
   "cell_type": "markdown",
   "id": "032b81b2-8c65-46ac-abb7-4924c6931edb",
   "metadata": {},
   "source": [
    "We are now going to use our features and targets to train a decision tree and then make a prediction. We are going to use the DecisionTreeRegressor class from the sklearn.tree module."
   ]
  },
  {
   "cell_type": "code",
   "execution_count": 12,
   "id": "fa677143-c778-4e73-a9af-c74e56b47d30",
   "metadata": {},
   "outputs": [
    {
     "name": "stdout",
     "output_type": "stream",
     "text": [
      "[0.539301   0.1645703  0.04190006 0.04427702]\n"
     ]
    }
   ],
   "source": [
    "import numpy as np\n",
    "from sklearn.tree import DecisionTreeRegressor\n",
    "\n",
    "# copy in your get_features_targets function here\n",
    "def get_features_targets(data):\n",
    "    data = np.load('sdss_galaxy_colors.npy')\n",
    "\n",
    "    features = np.zeros((data.shape[0], 4))\n",
    "    features[:, 0] = data['u'] - data['g']\n",
    "    features[:, 1] = data['g'] - data['r']\n",
    "    features[:, 2] = data['r'] - data['i']\n",
    "    features[:, 3] = data['i'] - data['z']\n",
    "    targets =  data['redshift'] \n",
    "    \n",
    "    return features, targets\n",
    "\n",
    "# load the data and generate the features and targets\n",
    "data = np.load('sdss_galaxy_colors.npy')\n",
    "features, targets = get_features_targets(data)\n",
    "  \n",
    "# initialize model\n",
    "dtr = DecisionTreeRegressor()\n",
    "\n",
    "# train the model\n",
    "dtr.fit(features, targets)\n",
    "\n",
    "# make predictions using the same features\n",
    "predictions = dtr.predict(features)\n",
    "\n",
    "# print out the first 4 predicted redshifts\n",
    "print(predictions[:4])\n"
   ]
  },
  {
   "cell_type": "markdown",
   "id": "fd827aa3-73cd-44ed-b228-9bde89decae5",
   "metadata": {},
   "source": [
    "So we trained a decision tree! Great...but how do we know if the tree is actually any good at predicting redshifts?\n",
    "\n",
    "In regression we compare the predictions generated by our model with the actual values to test how well our model is performing. The difference between the predicted values and actual values (sometimes referred to as residuals) can tell us a lot about where our model is performing well and where it is not.\n",
    "\n",
    "While there are a few different ways to characterise these differences, in this tutorial we will use the median of the differences between our predicted and actual values. "
   ]
  },
  {
   "cell_type": "markdown",
   "id": "3478160c-74e3-4a95-bcc0-3ce3aed68211",
   "metadata": {},
   "source": [
    "In this problem we will implement the function median_diff. The function should calculate the median residual error of our model, i.e. the median difference between our predicted and actual redshifts.\n",
    "\n",
    "The median_diff function takes two arguments – the predicted and actual/target values. When we use this function later in the tutorial, these will corresponding to the predicted redshifts from our decision tree and their corresponding measured/target values."
   ]
  },
  {
   "cell_type": "code",
   "execution_count": 17,
   "id": "7df791f1-60ad-484d-b8b0-0f88c7b9222e",
   "metadata": {
    "tags": []
   },
   "outputs": [],
   "source": [
    "import numpy as np\n",
    "\n",
    "# write a function that calculates the median of the differences\n",
    "# between our predicted and actual values\n",
    "def median_diff(predicted, actual):\n",
    "    return np.median(abs(predicted-actual))"
   ]
  },
  {
   "cell_type": "markdown",
   "id": "8fcccc96-d6c7-498f-b532-81ce1db02ca6",
   "metadata": {},
   "source": [
    "We previously used the same data for training and testing our decision trees.\n",
    "\n",
    "This gives an unrealistic estimate of how accurate the model will be on previously unseen galaxies because the model has been optimised to get the best results on the training data.\n",
    "\n",
    "The simplest way to solve this problem is to split our data into training and testing subsets:\n",
    "\n",
    "This method of validation is the most basic approach to validation and is called held-out validation. We will use the med_diff accuracy measure and hold-out validation in the next problem to assess the accuracy of our decision tree."
   ]
  },
  {
   "cell_type": "code",
   "execution_count": 21,
   "id": "b528c34a-37b4-42bd-b20c-e9fa84c57ea5",
   "metadata": {},
   "outputs": [
    {
     "name": "stdout",
     "output_type": "stream",
     "text": [
      "Median difference: 0.021892\n"
     ]
    }
   ],
   "source": [
    "import numpy as np\n",
    "from sklearn.tree import DecisionTreeRegressor\n",
    "\n",
    "# paste your get_features_targets function here\n",
    "def get_features_targets(data):\n",
    "    data = np.load('sdss_galaxy_colors.npy')\n",
    "\n",
    "    features = np.zeros((data.shape[0], 4))\n",
    "    features[:, 0] = data['u'] - data['g']\n",
    "    features[:, 1] = data['g'] - data['r']\n",
    "    features[:, 2] = data['r'] - data['i']\n",
    "    features[:, 3] = data['i'] - data['z']\n",
    "    targets =  data['redshift'] \n",
    "    \n",
    "    return features, targets\n",
    "\n",
    "# paste your median_diff function here\n",
    "def median_diff(predicted, actual):\n",
    "    return np.median(abs(predicted-actual))\n",
    "\n",
    "# write a function that splits the data into training and testing subsets\n",
    "# trains the model and returns the prediction accuracy with median_diff\n",
    "def validate_model(model, features, targets):\n",
    "  # split the data into training and testing features and predictions\n",
    "    split = features.shape[0]//2\n",
    "    train_features = features[:split]\n",
    "    test_features = features[split:]\n",
    "    train_targets = targets[:split]\n",
    "    test_targets = targets[split:]\n",
    "    \n",
    "  # train the model\n",
    "    dtr = DecisionTreeRegressor()\n",
    "    dtr.fit(train_features, train_targets)\n",
    "    \n",
    "  # get the predicted_redshifts\n",
    "    predictions = dtr.predict(test_features)\n",
    "    \n",
    "    # use median_diff function to calculate the accuracy\n",
    "    return median_diff(test_targets, predictions)\n",
    "\n",
    "\n",
    "if __name__ == \"__main__\":\n",
    "    data = np.load('sdss_galaxy_colors.npy')\n",
    "    features, targets = get_features_targets(data)\n",
    "\n",
    "    # initialize model\n",
    "    dtr = DecisionTreeRegressor()\n",
    "\n",
    "    # validate the model and print the med_diff\n",
    "    diff = validate_model(dtr, features, targets)\n",
    "    print('Median difference: {:f}'.format(diff))\n"
   ]
  },
  {
   "cell_type": "markdown",
   "id": "acd1b4c0-74ce-4c6b-8794-86655991cd58",
   "metadata": {},
   "source": [
    "You can see how the decision is made at each node as well as the number of samples which reach that node. We won't go through how to make these plots in the tutorial, but you can download a demo script and data to try at home.\n",
    "\n",
    "The median of differences of  \n",
    "≈\n",
    "0.02\n",
    " . This means that half of our galaxies have a error in the prediction of  \n",
    "<\n",
    "0.02\n",
    " , which is pretty good. One of the reason we chose the median of differences as our accuracy measure is that it gives a fair representation of the errors especially when the distribution of errors is skewed. The graph below shows the distribution of residuals (differences) for our model along with the median and interquartile values."
   ]
  },
  {
   "cell_type": "code",
   "execution_count": 31,
   "id": "1e8e102a-7930-48cd-a0c3-ac9955506089",
   "metadata": {},
   "outputs": [
    {
     "data": {
      "text/plain": [
       "'C:\\\\Users\\\\incar\\\\Documents\\\\GitHub\\\\Data-driven-Astronomy\\\\week5-decision_tree_redshift'"
      ]
     },
     "execution_count": 31,
     "metadata": {},
     "output_type": "execute_result"
    }
   ],
   "source": [
    "pwd"
   ]
  },
  {
   "cell_type": "code",
   "execution_count": 30,
   "id": "b0b743e8-4955-4044-adc8-5cb5d27dd09f",
   "metadata": {
    "tags": []
   },
   "outputs": [],
   "source": [
    "#!pip install update sklearn"
   ]
  },
  {
   "cell_type": "code",
   "execution_count": 24,
   "id": "03ef6047-9c4f-44f9-9c9c-5290d4d5ae0e",
   "metadata": {
    "collapsed": true,
    "jupyter": {
     "outputs_hidden": true
    },
    "tags": []
   },
   "outputs": [
    {
     "ename": "InvocationException",
     "evalue": "GraphViz's executables not found",
     "output_type": "error",
     "traceback": [
      "\u001b[1;31m---------------------------------------------------------------------------\u001b[0m",
      "\u001b[1;31mInvocationException\u001b[0m                       Traceback (most recent call last)",
      "\u001b[1;32m~\\AppData\\Local\\Temp/ipykernel_7548/877363897.py\u001b[0m in \u001b[0;36m<module>\u001b[1;34m\u001b[0m\n\u001b[0;32m     19\u001b[0m     \u001b[0mdot_data\u001b[0m \u001b[1;33m=\u001b[0m \u001b[0mexport_graphviz\u001b[0m\u001b[1;33m(\u001b[0m\u001b[0mdtr\u001b[0m\u001b[1;33m,\u001b[0m \u001b[0mout_file\u001b[0m\u001b[1;33m=\u001b[0m\u001b[1;32mNone\u001b[0m\u001b[1;33m,\u001b[0m\u001b[0mfeature_names\u001b[0m\u001b[1;33m=\u001b[0m\u001b[1;33m[\u001b[0m\u001b[1;34m'u - g'\u001b[0m\u001b[1;33m,\u001b[0m \u001b[1;34m'g - r'\u001b[0m\u001b[1;33m,\u001b[0m \u001b[1;34m'r - i'\u001b[0m\u001b[1;33m,\u001b[0m \u001b[1;34m'i - z'\u001b[0m\u001b[1;33m]\u001b[0m\u001b[1;33m)\u001b[0m\u001b[1;33m\u001b[0m\u001b[1;33m\u001b[0m\u001b[0m\n\u001b[0;32m     20\u001b[0m     \u001b[0mgraph\u001b[0m \u001b[1;33m=\u001b[0m \u001b[0mpydotplus\u001b[0m\u001b[1;33m.\u001b[0m\u001b[0mgraph_from_dot_data\u001b[0m\u001b[1;33m(\u001b[0m\u001b[0mdot_data\u001b[0m\u001b[1;33m)\u001b[0m\u001b[1;33m\u001b[0m\u001b[1;33m\u001b[0m\u001b[0m\n\u001b[1;32m---> 21\u001b[1;33m     \u001b[0mgraph\u001b[0m\u001b[1;33m.\u001b[0m\u001b[0mwrite_jpg\u001b[0m\u001b[1;33m(\u001b[0m\u001b[1;34m\"decision_tree.jpg\"\u001b[0m\u001b[1;33m)\u001b[0m\u001b[1;33m\u001b[0m\u001b[1;33m\u001b[0m\u001b[0m\n\u001b[0m",
      "\u001b[1;32m~\\Anaconda3\\lib\\site-packages\\pydotplus\\graphviz.py\u001b[0m in \u001b[0;36m<lambda>\u001b[1;34m(path, f, prog)\u001b[0m\n\u001b[0;32m   1808\u001b[0m                 \u001b[1;32mlambda\u001b[0m \u001b[0mpath\u001b[0m\u001b[1;33m,\u001b[0m\u001b[1;33m\u001b[0m\u001b[1;33m\u001b[0m\u001b[0m\n\u001b[0;32m   1809\u001b[0m                 \u001b[0mf\u001b[0m\u001b[1;33m=\u001b[0m\u001b[0mfrmt\u001b[0m\u001b[1;33m,\u001b[0m\u001b[1;33m\u001b[0m\u001b[1;33m\u001b[0m\u001b[0m\n\u001b[1;32m-> 1810\u001b[1;33m                 \u001b[0mprog\u001b[0m\u001b[1;33m=\u001b[0m\u001b[0mself\u001b[0m\u001b[1;33m.\u001b[0m\u001b[0mprog\u001b[0m\u001b[1;33m:\u001b[0m \u001b[0mself\u001b[0m\u001b[1;33m.\u001b[0m\u001b[0mwrite\u001b[0m\u001b[1;33m(\u001b[0m\u001b[0mpath\u001b[0m\u001b[1;33m,\u001b[0m \u001b[0mformat\u001b[0m\u001b[1;33m=\u001b[0m\u001b[0mf\u001b[0m\u001b[1;33m,\u001b[0m \u001b[0mprog\u001b[0m\u001b[1;33m=\u001b[0m\u001b[0mprog\u001b[0m\u001b[1;33m)\u001b[0m\u001b[1;33m\u001b[0m\u001b[1;33m\u001b[0m\u001b[0m\n\u001b[0m\u001b[0;32m   1811\u001b[0m             )\n\u001b[0;32m   1812\u001b[0m \u001b[1;33m\u001b[0m\u001b[0m\n",
      "\u001b[1;32m~\\Anaconda3\\lib\\site-packages\\pydotplus\\graphviz.py\u001b[0m in \u001b[0;36mwrite\u001b[1;34m(self, path, prog, format)\u001b[0m\n\u001b[0;32m   1916\u001b[0m \u001b[1;33m\u001b[0m\u001b[0m\n\u001b[0;32m   1917\u001b[0m             \u001b[1;32melse\u001b[0m\u001b[1;33m:\u001b[0m\u001b[1;33m\u001b[0m\u001b[1;33m\u001b[0m\u001b[0m\n\u001b[1;32m-> 1918\u001b[1;33m                 \u001b[0mfobj\u001b[0m\u001b[1;33m.\u001b[0m\u001b[0mwrite\u001b[0m\u001b[1;33m(\u001b[0m\u001b[0mself\u001b[0m\u001b[1;33m.\u001b[0m\u001b[0mcreate\u001b[0m\u001b[1;33m(\u001b[0m\u001b[0mprog\u001b[0m\u001b[1;33m,\u001b[0m \u001b[0mformat\u001b[0m\u001b[1;33m)\u001b[0m\u001b[1;33m)\u001b[0m\u001b[1;33m\u001b[0m\u001b[1;33m\u001b[0m\u001b[0m\n\u001b[0m\u001b[0;32m   1919\u001b[0m         \u001b[1;32mfinally\u001b[0m\u001b[1;33m:\u001b[0m\u001b[1;33m\u001b[0m\u001b[1;33m\u001b[0m\u001b[0m\n\u001b[0;32m   1920\u001b[0m             \u001b[1;32mif\u001b[0m \u001b[0mclose\u001b[0m\u001b[1;33m:\u001b[0m\u001b[1;33m\u001b[0m\u001b[1;33m\u001b[0m\u001b[0m\n",
      "\u001b[1;32m~\\Anaconda3\\lib\\site-packages\\pydotplus\\graphviz.py\u001b[0m in \u001b[0;36mcreate\u001b[1;34m(self, prog, format)\u001b[0m\n\u001b[0;32m   1957\u001b[0m             \u001b[0mself\u001b[0m\u001b[1;33m.\u001b[0m\u001b[0mprogs\u001b[0m \u001b[1;33m=\u001b[0m \u001b[0mfind_graphviz\u001b[0m\u001b[1;33m(\u001b[0m\u001b[1;33m)\u001b[0m\u001b[1;33m\u001b[0m\u001b[1;33m\u001b[0m\u001b[0m\n\u001b[0;32m   1958\u001b[0m             \u001b[1;32mif\u001b[0m \u001b[0mself\u001b[0m\u001b[1;33m.\u001b[0m\u001b[0mprogs\u001b[0m \u001b[1;32mis\u001b[0m \u001b[1;32mNone\u001b[0m\u001b[1;33m:\u001b[0m\u001b[1;33m\u001b[0m\u001b[1;33m\u001b[0m\u001b[0m\n\u001b[1;32m-> 1959\u001b[1;33m                 raise InvocationException(\n\u001b[0m\u001b[0;32m   1960\u001b[0m                     'GraphViz\\'s executables not found')\n\u001b[0;32m   1961\u001b[0m \u001b[1;33m\u001b[0m\u001b[0m\n",
      "\u001b[1;31mInvocationException\u001b[0m: GraphViz's executables not found"
     ]
    }
   ],
   "source": [
    "import numpy as np\n",
    "import pydotplus as pydotplus\n",
    "from sklearn.tree import DecisionTreeRegressor,export_graphviz\n",
    "\n",
    "if __name__ == \"__main__\":\n",
    "    data = np.load('sdss_galaxy_colors.npy')\n",
    "    features, targets = get_features_targets(data)\n",
    "\n",
    "    # Initialize model\n",
    "    dtr = DecisionTreeRegressor(max_depth=3)    # We will come to this input in the next tutorial\n",
    "\n",
    "    # Split the data into training and testing\n",
    "    split_index = int(0.5 * len(features))\n",
    "    train_features = features[:split_index]\n",
    "    train_targets = targets[:split_index]\n",
    "\n",
    "    dtr.fit(train_features, train_targets)\n",
    "\n",
    "    dot_data = export_graphviz(dtr, out_file=None,feature_names=['u - g', 'g - r', 'r - i', 'i - z'])\n",
    "    graph = pydotplus.graph_from_dot_data(dot_data)\n",
    "    graph.write_jpg(\"decision_tree.jpg\")\n"
   ]
  },
  {
   "cell_type": "markdown",
   "id": "75aed7ce-0d49-46d6-83d4-fb447d281843",
   "metadata": {},
   "source": [
    "The number of galaxies we use to train the model has a big impact on how accurate our predictions will be. This is the same with most machine learning methods: the more data that they are trained with, the more accurate their prediction will be.\n",
    "\n",
    "Here is how our median difference changes with training set size:\n",
    "\n",
    "Training galaxies\tmedian_diff\n",
    "50\t0.048\n",
    "500\t0.026\n",
    "5000\t0.023\n",
    "50000\t0.022\n",
    "Understanding how the accuracy of the model changes with sample size is important to understanding the limitations of our model. We are approaching the accuracy limit of the decision tree model (for our redshift problem) with a training sample size of 25,000 galaxies.\n",
    "\n",
    "The only way we could further improve our model would be to use more features. This might include more colour indices or even the errors associated with the measured flux magnitudes."
   ]
  },
  {
   "cell_type": "markdown",
   "id": "15a939c4-6411-4db2-9eaa-599d91a62d1b",
   "metadata": {},
   "source": [
    "![title](pic3.png)\n"
   ]
  },
  {
   "cell_type": "code",
   "execution_count": 28,
   "id": "49d5ebc6-603a-4f46-809a-d4e201b29e85",
   "metadata": {
    "collapsed": true,
    "jupyter": {
     "outputs_hidden": true
    },
    "tags": []
   },
   "outputs": [
    {
     "ename": "FileNotFoundError",
     "evalue": "[Errno 2] No such file or directory: 'sdss_galaxy_colors_limz.npy'",
     "output_type": "error",
     "traceback": [
      "\u001b[1;31m---------------------------------------------------------------------------\u001b[0m",
      "\u001b[1;31mFileNotFoundError\u001b[0m                         Traceback (most recent call last)",
      "\u001b[1;32m~\\AppData\\Local\\Temp/ipykernel_7548/2106695260.py\u001b[0m in \u001b[0;36m<module>\u001b[1;34m\u001b[0m\n\u001b[0;32m      7\u001b[0m \u001b[1;31m# Complete the following to make the plot\u001b[0m\u001b[1;33m\u001b[0m\u001b[1;33m\u001b[0m\u001b[1;33m\u001b[0m\u001b[0m\n\u001b[0;32m      8\u001b[0m \u001b[1;32mif\u001b[0m \u001b[0m__name__\u001b[0m \u001b[1;33m==\u001b[0m \u001b[1;34m\"__main__\"\u001b[0m\u001b[1;33m:\u001b[0m\u001b[1;33m\u001b[0m\u001b[1;33m\u001b[0m\u001b[0m\n\u001b[1;32m----> 9\u001b[1;33m     \u001b[0mdata\u001b[0m \u001b[1;33m=\u001b[0m \u001b[0mnp\u001b[0m\u001b[1;33m.\u001b[0m\u001b[0mload\u001b[0m\u001b[1;33m(\u001b[0m\u001b[1;34m'sdss_galaxy_colors_limz.npy'\u001b[0m\u001b[1;33m)\u001b[0m\u001b[1;33m\u001b[0m\u001b[1;33m\u001b[0m\u001b[0m\n\u001b[0m\u001b[0;32m     10\u001b[0m     \u001b[1;31m# Get a colour map\u001b[0m\u001b[1;33m\u001b[0m\u001b[1;33m\u001b[0m\u001b[1;33m\u001b[0m\u001b[0m\n\u001b[0;32m     11\u001b[0m     \u001b[0mcmap\u001b[0m \u001b[1;33m=\u001b[0m \u001b[0mplt\u001b[0m\u001b[1;33m.\u001b[0m\u001b[0mget_cmap\u001b[0m\u001b[1;33m(\u001b[0m\u001b[1;34m'YlOrRd'\u001b[0m\u001b[1;33m)\u001b[0m\u001b[1;33m\u001b[0m\u001b[1;33m\u001b[0m\u001b[0m\n",
      "\u001b[1;32m~\\Anaconda3\\lib\\site-packages\\numpy\\lib\\npyio.py\u001b[0m in \u001b[0;36mload\u001b[1;34m(file, mmap_mode, allow_pickle, fix_imports, encoding)\u001b[0m\n\u001b[0;32m    415\u001b[0m             \u001b[0mown_fid\u001b[0m \u001b[1;33m=\u001b[0m \u001b[1;32mFalse\u001b[0m\u001b[1;33m\u001b[0m\u001b[1;33m\u001b[0m\u001b[0m\n\u001b[0;32m    416\u001b[0m         \u001b[1;32melse\u001b[0m\u001b[1;33m:\u001b[0m\u001b[1;33m\u001b[0m\u001b[1;33m\u001b[0m\u001b[0m\n\u001b[1;32m--> 417\u001b[1;33m             \u001b[0mfid\u001b[0m \u001b[1;33m=\u001b[0m \u001b[0mstack\u001b[0m\u001b[1;33m.\u001b[0m\u001b[0menter_context\u001b[0m\u001b[1;33m(\u001b[0m\u001b[0mopen\u001b[0m\u001b[1;33m(\u001b[0m\u001b[0mos_fspath\u001b[0m\u001b[1;33m(\u001b[0m\u001b[0mfile\u001b[0m\u001b[1;33m)\u001b[0m\u001b[1;33m,\u001b[0m \u001b[1;34m\"rb\"\u001b[0m\u001b[1;33m)\u001b[0m\u001b[1;33m)\u001b[0m\u001b[1;33m\u001b[0m\u001b[1;33m\u001b[0m\u001b[0m\n\u001b[0m\u001b[0;32m    418\u001b[0m             \u001b[0mown_fid\u001b[0m \u001b[1;33m=\u001b[0m \u001b[1;32mTrue\u001b[0m\u001b[1;33m\u001b[0m\u001b[1;33m\u001b[0m\u001b[0m\n\u001b[0;32m    419\u001b[0m \u001b[1;33m\u001b[0m\u001b[0m\n",
      "\u001b[1;31mFileNotFoundError\u001b[0m: [Errno 2] No such file or directory: 'sdss_galaxy_colors_limz.npy'"
     ]
    }
   ],
   "source": [
    "import numpy as np\n",
    "from matplotlib import pyplot as plt\n",
    "\n",
    "import numpy as np\n",
    "from matplotlib import pyplot as plt\n",
    "\n",
    "# Complete the following to make the plot\n",
    "if __name__ == \"__main__\":\n",
    "    data = np.load('sdss_galaxy_colors_limz.npy')\n",
    "    # Get a colour map\n",
    "    cmap = plt.get_cmap('YlOrRd')\n",
    "\n",
    "    # Define our colour indexes u-g and r-i\n",
    "    u_g = data['u'] - data['g']\n",
    "    r_i = data['r'] - data['i']\n",
    "\n",
    "    # Make a redshift array\n",
    "    redshift = data['redshift']\n",
    "\n",
    "    # Create the plot with plt.scatter\n",
    "    plot = plt.scatter(u_g, r_i, s=0.5, lw=0, c=redshift, cmap=cmap)\n",
    "\n",
    "    cb = plt.colorbar(plot)\n",
    "    cb.set_label('Redshift')\n",
    "\n",
    "    # Define your axis labels and plot title\n",
    "    plt.xlabel('Colour index  u-g')\n",
    "    plt.ylabel('Colour index  r-i')\n",
    "    plt.title('Redshift (colour) u-g versus r-i')\n",
    "\n",
    "    # Set any axis limits\n",
    "    plt.xlim(-0.5, 2.5)\n",
    "    plt.ylim(-0.5, 1)\n",
    "\n",
    "    plt.show()"
   ]
  },
  {
   "cell_type": "code",
   "execution_count": null,
   "id": "a5fc71e9-24d5-4f8a-ab92-97dd57df770e",
   "metadata": {},
   "outputs": [],
   "source": []
  }
 ],
 "metadata": {
  "kernelspec": {
   "display_name": "Python 3 (ipykernel)",
   "language": "python",
   "name": "python3"
  },
  "language_info": {
   "codemirror_mode": {
    "name": "ipython",
    "version": 3
   },
   "file_extension": ".py",
   "mimetype": "text/x-python",
   "name": "python",
   "nbconvert_exporter": "python",
   "pygments_lexer": "ipython3",
   "version": "3.8.11"
  }
 },
 "nbformat": 4,
 "nbformat_minor": 5
}
