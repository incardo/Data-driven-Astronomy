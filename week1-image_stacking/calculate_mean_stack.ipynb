{
 "cells": [
  {
   "cell_type": "code",
   "execution_count": 1,
   "id": "b40ba30f-5e79-4f95-b541-9f061a613a16",
   "metadata": {},
   "outputs": [
    {
     "ename": "SyntaxError",
     "evalue": "invalid syntax (Temp/ipykernel_73256/2558663721.py, line 4)",
     "output_type": "error",
     "traceback": [
      "\u001b[1;36m  File \u001b[1;32m\"C:\\Users\\incar\\AppData\\Local\\Temp/ipykernel_73256/2558663721.py\"\u001b[1;36m, line \u001b[1;32m4\u001b[0m\n\u001b[1;33m    def load_fits(file)\u001b[0m\n\u001b[1;37m                       ^\u001b[0m\n\u001b[1;31mSyntaxError\u001b[0m\u001b[1;31m:\u001b[0m invalid syntax\n"
     ]
    }
   ],
   "source": [
    "# Write your load_fits function here.\n",
    "from astropy.io import fits\n",
    "\n",
    "def load_fits(file):\n",
    "hdulist = fits.open('image0.fits')\n",
    "  hdulist = fits.open(file)\n",
    "  \n",
    "  data = hdulist[0].data\n",
    "\n",
    "\n",
    "if __name__ == '__main__':\n",
    "  # Run your `load_fits` function with examples:\n",
    "  bright = load_fits('image1.fits')\n",
    "  print(bright)\n",
    "\n",
    "  # You can also confirm your result visually:\n",
    "  from astropy.io import fits\n",
    "  import matplotlib.pyplot as plt\n",
    "\n",
    "  hdulist = fits.open('image1.fits')"
   ]
  },
  {
   "cell_type": "code",
   "execution_count": 3,
   "id": "d3ac2d6e-25ce-4f5b-9bdc-c1dd798061d4",
   "metadata": {},
   "outputs": [],
   "source": [
    "from astropy.io import fits"
   ]
  },
  {
   "cell_type": "code",
   "execution_count": 4,
   "id": "7c3c408f-8680-41ae-9d38-d70732f4b87c",
   "metadata": {},
   "outputs": [],
   "source": [
    "hdulist = fits.open('image0.fits')"
   ]
  },
  {
   "cell_type": "code",
   "execution_count": 5,
   "id": "256effc1-8c41-48ab-af8b-bd45b2cfb458",
   "metadata": {},
   "outputs": [],
   "source": [
    "data = hdulist[0].data\n"
   ]
  },
  {
   "cell_type": "code",
   "execution_count": 15,
   "id": "658bc885-48cb-4683-8796-4e48b21e9fd2",
   "metadata": {},
   "outputs": [],
   "source": [
    "import numpy as np"
   ]
  },
  {
   "cell_type": "code",
   "execution_count": 17,
   "id": "4505c815-9726-4452-a0c0-e3ffa9de6c19",
   "metadata": {},
   "outputs": [
    {
     "data": {
      "text/plain": [
       "20100"
      ]
     },
     "execution_count": 17,
     "metadata": {},
     "output_type": "execute_result"
    }
   ],
   "source": [
    "np.argmax(data)"
   ]
  },
  {
   "cell_type": "code",
   "execution_count": 19,
   "id": "2d238a3a-23e2-4894-8622-7fa73422cf1c",
   "metadata": {
    "tags": []
   },
   "outputs": [
    {
     "data": {
      "text/plain": [
       "array([ 62,  63,  62,  24,  24,  61, 105,  20, 142, 164,  16, 174, 173,\n",
       "       150, 150, 177,   7, 105, 155, 113, 153, 139,  93,  93, 162, 162,\n",
       "       115, 176, 168,   0, 107, 107, 152, 143,  97,  10,  10, 110,  11,\n",
       "        40, 173, 164,  14, 176,  53, 175, 183, 147,  46,  47,   5,  49,\n",
       "        49,  49, 177,   3,   3,   3, 167, 191,  18,   9, 157, 158,   0,\n",
       "         7, 176,  64, 113, 153, 154, 113, 113,  46, 125, 118,  18, 131,\n",
       "       137,  11, 147, 120, 147, 153, 146,  73, 193, 183, 155, 154, 140,\n",
       "        50, 197,  96, 176, 190, 176, 173, 160, 101, 100, 100, 102, 104,\n",
       "       157, 159,   6,   5, 125,  75,  74,  72, 124,  71, 189, 128,  74,\n",
       "        73, 122,  28,  77,  26, 100, 102,  62, 108, 108,  49, 197, 197,\n",
       "        60,  11, 146,  99,  18, 131, 121,  18,  42,  64,  44, 124, 126,\n",
       "        15, 126, 131,  27,  61,  38,  38,  38,  52,  53, 134, 128, 129,\n",
       "       103,  85,  87, 118,  81,  94,  41,  25,  72,  79,  78, 161, 108,\n",
       "       108, 108,  28, 191, 194,  51,  90,  89,  99,  51, 139,  22,  21,\n",
       "        22,  22, 175,  53,  53,  53,  47,  54,  55,  37, 179, 173, 174,\n",
       "         6, 155,   9, 180,  40], dtype=int64)"
      ]
     },
     "execution_count": 19,
     "metadata": {},
     "output_type": "execute_result"
    }
   ],
   "source": [
    "np.argmax(data, axis=0)"
   ]
  },
  {
   "cell_type": "code",
   "execution_count": 21,
   "id": "867342bb-ffe1-49df-836b-81f231bca3de",
   "metadata": {},
   "outputs": [
    {
     "data": {
      "text/plain": [
       "(array([100], dtype=int64), array([100], dtype=int64))"
      ]
     },
     "execution_count": 21,
     "metadata": {},
     "output_type": "execute_result"
    }
   ],
   "source": [
    "np.where(data == data.max())"
   ]
  },
  {
   "cell_type": "code",
   "execution_count": null,
   "id": "237d7384-c63b-4166-8e41-2823e78da168",
   "metadata": {},
   "outputs": [],
   "source": []
  }
 ],
 "metadata": {
  "kernelspec": {
   "display_name": "Python 3 (ipykernel)",
   "language": "python",
   "name": "python3"
  },
  "language_info": {
   "codemirror_mode": {
    "name": "ipython",
    "version": 3
   },
   "file_extension": ".py",
   "mimetype": "text/x-python",
   "name": "python",
   "nbconvert_exporter": "python",
   "pygments_lexer": "ipython3",
   "version": "3.8.11"
  }
 },
 "nbformat": 4,
 "nbformat_minor": 5
}
